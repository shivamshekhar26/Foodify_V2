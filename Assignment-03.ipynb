{
 "cells": [
  {
   "cell_type": "markdown",
   "metadata": {},
   "source": [
    "ASSIGNMENT-03"
   ]
  },
  {
   "cell_type": "markdown",
   "metadata": {},
   "source": [
    "QUESTION-01:"
   ]
  },
  {
   "cell_type": "code",
   "execution_count": 3,
   "metadata": {},
   "outputs": [
    {
     "name": "stdout",
     "output_type": "stream",
     "text": [
      "True\n"
     ]
    }
   ],
   "source": [
    "string=(input(\"Enter the string:\"))\n",
    "if string.isdigit():\n",
    "    print(\"True\")\n",
    "else:\n",
    "    print(\"False\")"
   ]
  },
  {
   "cell_type": "markdown",
   "metadata": {},
   "source": [
    "QUESTION -02:"
   ]
  },
  {
   "cell_type": "code",
   "execution_count": 18,
   "metadata": {},
   "outputs": [
    {
     "name": "stdout",
     "output_type": "stream",
     "text": [
      "Pdtjno\n"
     ]
    }
   ],
   "source": [
    "str1=\"Python\"\n",
    "str2=\"dajngo\"\n",
    "a=str1[0]\n",
    "b=str2[0]\n",
    "c=str1[(len(str1) // 2)-1]\n",
    "d=str2[(len(str2) // 2)-1]\n",
    "e=str1[-1]\n",
    "f=str2[-1]\n",
    "txt=a+b+c+d+e+f\n",
    "print(txt)"
   ]
  },
  {
   "cell_type": "markdown",
   "metadata": {},
   "source": [
    "QUESTION -03:"
   ]
  },
  {
   "cell_type": "code",
   "execution_count": 28,
   "metadata": {},
   "outputs": [
    {
     "name": "stdout",
     "output_type": "stream",
     "text": [
      "shivamshekhar\n",
      "6\n",
      "shivamPANshekhar\n"
     ]
    }
   ],
   "source": [
    "str3=\"shivam\"\n",
    "str4=\"shekhar\"\n",
    "str5= str3 + str4\n",
    "print(str5)\n",
    "c=(len(str5)//2)\n",
    "print(c)\n",
    "str6=str5[:c] + \"PAN\" + str5[c:]\n",
    "print(str6)\n"
   ]
  },
  {
   "cell_type": "markdown",
   "metadata": {},
   "source": [
    "QUESTION-04:"
   ]
  },
  {
   "cell_type": "code",
   "execution_count": 114,
   "metadata": {},
   "outputs": [
    {
     "name": "stdout",
     "output_type": "stream",
     "text": [
      "rearranged str1: pthoastYNFAPI\n"
     ]
    }
   ],
   "source": [
    "str1=\"pYthoNFastAPI\"\n",
    "lowercase='' \n",
    "uppercase=''\n",
    "for x in str1:\n",
    "    if x.islower():\n",
    "        lowercase += x\n",
    "        \n",
    "    elif x.isupper():\n",
    "        uppercase += x\n",
    "print(\"rearranged str1:\",lowercase + uppercase)\n",
    "\n",
    "         \n",
    "        \n",
    "\n",
    "\n",
    "\n"
   ]
  },
  {
   "cell_type": "markdown",
   "metadata": {},
   "source": [
    "QUESTION -05:"
   ]
  },
  {
   "cell_type": "code",
   "execution_count": 59,
   "metadata": {},
   "outputs": [
    {
     "name": "stdout",
     "output_type": "stream",
     "text": [
      "alphabets: 8\n",
      "digits: 3\n",
      "symbols: 4\n"
     ]
    }
   ],
   "source": [
    "str1=\"P@#yn26at^&i5ve\"\n",
    "count1=0\n",
    "count2=0\n",
    "count3=0\n",
    "for x in str1:\n",
    "    if x.isalpha():\n",
    "        count1+=1\n",
    "    elif x.isdigit():\n",
    "        count2+=1\n",
    "    else:\n",
    "        count3+=1\n",
    "print(f\"alphabets: {count1}\")\n",
    "print(f\"digits: {count2}\")\n",
    "print(f\"symbols: {count3}\")\n",
    "\n",
    "    \n"
   ]
  },
  {
   "cell_type": "markdown",
   "metadata": {},
   "source": [
    "QUESTION 08:"
   ]
  },
  {
   "cell_type": "code",
   "execution_count": 61,
   "metadata": {},
   "outputs": [
    {
     "name": "stdout",
     "output_type": "stream",
     "text": [
      "59\n"
     ]
    }
   ],
   "source": [
    "str1=\"How much wood would a woodchuck chuck if a woodchuck could chuck wood?\"\n",
    "b=str1.rindex(\"chuck\")\n",
    "print(b)"
   ]
  },
  {
   "cell_type": "markdown",
   "metadata": {},
   "source": [
    "QUESTION 09:"
   ]
  },
  {
   "cell_type": "code",
   "execution_count": 67,
   "metadata": {},
   "outputs": [
    {
     "name": "stdout",
     "output_type": "stream",
     "text": [
      "['Violet', 'Indigo', 'Blue', 'Green', 'Yellow', 'Orange', 'Red']\n"
     ]
    }
   ],
   "source": [
    "text=\"Violet-Indigo-Blue-Green-Yellow-Orange-Red\"\n",
    "c=text.split(\"-\")\n",
    "print(c)"
   ]
  },
  {
   "cell_type": "markdown",
   "metadata": {},
   "source": [
    "QUESTION 10:"
   ]
  },
  {
   "cell_type": "code",
   "execution_count": 82,
   "metadata": {},
   "outputs": [
    {
     "name": "stdout",
     "output_type": "stream",
     "text": [
      "Hello he said I have 45  you\n"
     ]
    }
   ],
   "source": [
    "str1=\"Hello!, he said, --I have $45 & you?\"\n",
    "output=\"\"\n",
    "for x in str1:\n",
    "    if x.isalpha() or x.isdigit() or x== \" \":\n",
    "        output += x\n",
    "print(output)\n"
   ]
  },
  {
   "cell_type": "markdown",
   "metadata": {},
   "source": [
    "QUESTION 11:"
   ]
  },
  {
   "cell_type": "code",
   "execution_count": 96,
   "metadata": {},
   "outputs": [
    {
     "name": "stdout",
     "output_type": "stream",
     "text": [
      "code practice quiz geeks\n"
     ]
    }
   ],
   "source": [
    "str1=\"geeks quiz practice code\"\n",
    "c=str1.split()\n",
    "c.reverse()\n",
    "result=\" \".join(c)\n",
    "print(result)\n"
   ]
  },
  {
   "cell_type": "markdown",
   "metadata": {},
   "source": [
    "STRING USECASES :"
   ]
  },
  {
   "cell_type": "code",
   "execution_count": 17,
   "metadata": {},
   "outputs": [
    {
     "name": "stdout",
     "output_type": "stream",
     "text": [
      "helo wrd \n"
     ]
    }
   ],
   "source": [
    "str7=input(\"Enter the string:\")\n",
    "set1=set()\n",
    "result1=\"\"\n",
    "for chr in str7:\n",
    "    if chr==\" \":\n",
    "        result1 += chr\n",
    "    elif chr not in set1:\n",
    "         set1.add(chr)\n",
    "         result1 += chr\n",
    "print(result1)\n",
    "\n",
    "\n"
   ]
  },
  {
   "cell_type": "code",
   "execution_count": 16,
   "metadata": {},
   "outputs": [
    {
     "name": "stdout",
     "output_type": "stream",
     "text": [
      "Yes!The string is palindrome\n"
     ]
    }
   ],
   "source": [
    "str7=input(\"Enter the string:\")\n",
    "if str7 == str7[::-1]:\n",
    "    print(\"Yes!The string is palindrome\")\n",
    "else:\n",
    "    print(\"no it is not palindrome\")"
   ]
  },
  {
   "cell_type": "code",
   "execution_count": 19,
   "metadata": {},
   "outputs": [
    {
     "name": "stdout",
     "output_type": "stream",
     "text": [
      "'h appears1times\n",
      "'e appears1times\n",
      "'l appears3times\n",
      "'o appears2times\n",
      "'  appears1times\n",
      "'w appears1times\n",
      "'r appears1times\n",
      "'d appears1times\n"
     ]
    }
   ],
   "source": [
    "str7=input(\"Enter the string:\")\n",
    "char_count={}\n",
    "for char in str7:\n",
    "    if char in char_count:\n",
    "        char_count[char] +=1\n",
    "    else:\n",
    "        char_count[char] =1\n",
    "for char,count in char_count.items():\n",
    "    print(f\"'{char} appears{count}times\")"
   ]
  },
  {
   "cell_type": "code",
   "execution_count": 26,
   "metadata": {},
   "outputs": [
    {
     "name": "stdout",
     "output_type": "stream",
     "text": [
      "pandey shekhar shivam\n"
     ]
    }
   ],
   "source": [
    "str7=input(\"Enter the string:\")\n",
    "d=str7.split()\n",
    "d.reverse()\n",
    "txt1=\" \".join(d) #HERE JOIN TAKES A LIST AND JOINS ALL ELEMENTS INTO A SINGLE STRING .\n",
    "print(txt1)\n",
    "\n"
   ]
  },
  {
   "cell_type": "code",
   "execution_count": 29,
   "metadata": {},
   "outputs": [
    {
     "name": "stdout",
     "output_type": "stream",
     "text": [
      "Hey My name is shivam and I am going to yash technologies.\n"
     ]
    }
   ],
   "source": [
    "t=\"    Hey My name is shivam and I am going to yash technologies.  \"\n",
    "txt3=t.strip()\n",
    "print(txt3)"
   ]
  },
  {
   "cell_type": "code",
   "execution_count": 47,
   "metadata": {},
   "outputs": [
    {
     "name": "stdout",
     "output_type": "stream",
     "text": [
      "['example@email.com', 'support@company.com']\n"
     ]
    }
   ],
   "source": [
    "text1=\"Please contact me at example@email.com for further information,or reach out to support@company.com .\"\n",
    "result=text1.split()\n",
    "email=[]\n",
    "for x in result:\n",
    "    for y in x:\n",
    "        if y==\"@\":\n",
    "            email.append(x)\n",
    "        else:\n",
    "            continue\n",
    "print(email)"
   ]
  },
  {
   "cell_type": "code",
   "execution_count": 59,
   "metadata": {},
   "outputs": [
    {
     "name": "stdout",
     "output_type": "stream",
     "text": [
      "weak password\n"
     ]
    }
   ],
   "source": [
    "import string \n",
    "def check_password_strength(password):\n",
    "    has_upper=False\n",
    "    has_lower=False\n",
    "    has_digit=False\n",
    "    has_special=False\n",
    "\n",
    "    for char in password:\n",
    "        if char.isupper():\n",
    "            has_upper=True\n",
    "        elif char.islower():\n",
    "            has_lower=True\n",
    "        elif char.isdigit():\n",
    "            has_digit=True\n",
    "        elif char in string.punctuation:\n",
    "            has_special=True\n",
    "    if len(password)>=8 and has_upper and has_lower and has_digit and has_special:\n",
    "        return \"Strong password\"\n",
    "    else:\n",
    "        return \"weak password\"\n",
    "pwd=input(\"Enter the password:\")\n",
    "print(check_password_strength(pwd)) \n"
   ]
  },
  {
   "cell_type": "code",
   "execution_count": 66,
   "metadata": {},
   "outputs": [
    {
     "name": "stdout",
     "output_type": "stream",
     "text": [
      "(998) 141-1887\n",
      "right contact number\n"
     ]
    }
   ],
   "source": [
    "\n",
    "import string\n",
    "def _contact_number(phone_number):\n",
    "    has_digit=False\n",
    "    for digit in phone_number:\n",
    "        if digit.isdigit():\n",
    "            has_digit=True\n",
    "        else:\n",
    "            print(\"Error\")\n",
    "    if len(phone_number)==10 and has_digit:\n",
    "        formatted_number=f\"({phone_number[:3]}) {phone_number[3:6]}-{phone_number[6:]}\"\n",
    "        print(f\"{formatted_number}\")\n",
    "        return \"right contact number\" \n",
    "    else:\n",
    "        return \"Wrong contact number\"\n",
    "cnt=input(\"Enter user phone number:\")\n",
    "print(_contact_number(cnt))\n",
    "\n"
   ]
  },
  {
   "cell_type": "code",
   "execution_count": 80,
   "metadata": {},
   "outputs": [
    {
     "name": "stdout",
     "output_type": "stream",
     "text": [
      "\n",
      "{'hello': 2, 'world': 1}\n"
     ]
    }
   ],
   "source": [
    "words=input(\"Enter the frequent string:\")\n",
    "words_s=words.split()\n",
    "result2=\"\"\n",
    "word_count={}\n",
    "for word in words_s :\n",
    "    word_count[word]= word_count.get(word,0)+1\n",
    "print(result2)\n",
    "print(word_count)\n",
    "    "
   ]
  },
  {
   "cell_type": "code",
   "execution_count": 99,
   "metadata": {},
   "outputs": [
    {
     "name": "stdout",
     "output_type": "stream",
     "text": [
      "['shivamshekhar02']\n"
     ]
    }
   ],
   "source": [
    "str9=input(\"Enter the email:\")\n",
    "list1=str9.split()\n",
    "result3=[]\n",
    "for bc in list1:\n",
    "    if \"@\" in bc and \".com\" in bc:\n",
    "        username=bc.split(\"@\")[0]\n",
    "        result3.append(username)\n",
    "\n",
    "print(result3)\n",
    "        \n"
   ]
  },
  {
   "cell_type": "code",
   "execution_count": null,
   "metadata": {},
   "outputs": [],
   "source": []
  }
 ],
 "metadata": {
  "kernelspec": {
   "display_name": "Python 3.12.1 64-bit",
   "language": "python",
   "name": "python3"
  },
  "language_info": {
   "codemirror_mode": {
    "name": "ipython",
    "version": 3
   },
   "file_extension": ".py",
   "mimetype": "text/x-python",
   "name": "python",
   "nbconvert_exporter": "python",
   "pygments_lexer": "ipython3",
   "version": "3.12.1"
  },
  "orig_nbformat": 4,
  "vscode": {
   "interpreter": {
    "hash": "8ce2ce319f49e0b662d1569cecf3548defb0c46dfe8a5ed0095864e2194a15b4"
   }
  }
 },
 "nbformat": 4,
 "nbformat_minor": 2
}
