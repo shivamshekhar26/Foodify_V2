{
 "cells": [
  {
   "cell_type": "markdown",
   "id": "069cafb1",
   "metadata": {},
   "source": [
    "ALL ABOUT OOPS :\n",
    "Python Decorators with arguments "
   ]
  },
  {
   "cell_type": "code",
   "execution_count": 1,
   "id": "ca17ea3b",
   "metadata": {},
   "outputs": [
    {
     "name": "stdout",
     "output_type": "stream",
     "text": [
      "Decorator argument: Hello\n",
      "Hi Alice\n"
     ]
    }
   ],
   "source": [
    "def decorator_with_args(arg):\n",
    "    def actual_decorator(func):\n",
    "        def wrapper(*args, **kwargs):\n",
    "            print(f\"Decorator argument: {arg}\")\n",
    "            return func(*args, **kwargs)\n",
    "        return wrapper\n",
    "    return actual_decorator\n",
    "\n",
    "@decorator_with_args(\"Hello\")\n",
    "def greet(name):\n",
    "    print(f\"Hi {name}\")\n",
    "\n",
    "greet(\"Alice\")\n"
   ]
  },
  {
   "cell_type": "code",
   "execution_count": 4,
   "id": "f34f7143",
   "metadata": {},
   "outputs": [
    {
     "name": "stdout",
     "output_type": "stream",
     "text": [
      "Decorator arguments: hello, world\n",
      "my name is shivam\n"
     ]
    }
   ],
   "source": [
    "def decorator_with_args(arg1, arg2):\n",
    "    def decorator(func):\n",
    "        def wrapper(*args, **kwargs):\n",
    "            # Use decorator arguments (arg1, arg2) here\n",
    "            print(f\"Decorator arguments: {arg1}, {arg2}\")\n",
    "            return func(*args, **kwargs)\n",
    "        return wrapper\n",
    "    return decorator\n",
    "@decorator_with_args('hello','world')\n",
    "def greet(name):\n",
    "    print(f\"my name is {name}\")\n",
    "greet('shivam')"
   ]
  },
  {
   "cell_type": "markdown",
   "id": "41f92a55",
   "metadata": {},
   "source": [
    "A decorator with parameters (also called a decorator factory) is when\n",
    "the outer function of the decorator takes arguments.\n",
    "This outer function returns the actual decorator."
   ]
  },
  {
   "cell_type": "markdown",
   "id": "38b1a81f",
   "metadata": {},
   "source": [
    "Syntactic decorator refers to special @decorator_name syntax . Also called pie syntax."
   ]
  },
  {
   "cell_type": "markdown",
   "id": "1ed2b02c",
   "metadata": {},
   "source": [
    "Your decorator_with_args is reusable because you can apply it multiple times with different arguments to decorate many functions, each time customizing the decorator’s behavior without rewriting the decorator code itself.\n",
    "SEE IN EXAMPLE LIKE THIS :"
   ]
  },
  {
   "cell_type": "code",
   "execution_count": 5,
   "id": "6a092885",
   "metadata": {},
   "outputs": [
    {
     "name": "stdout",
     "output_type": "stream",
     "text": [
      "Decorator arguments: foo, bar\n",
      "Hello!\n",
      "Decorator arguments: spam, eggs\n",
      "Goodbye!\n"
     ]
    }
   ],
   "source": [
    "#So we can use thedecorator function with other parameters even!\n",
    "@decorator_with_args('foo', 'bar')\n",
    "def say_hello():\n",
    "    print(\"Hello!\")\n",
    "\n",
    "@decorator_with_args('spam', 'eggs')\n",
    "def say_goodbye():\n",
    "    print(\"Goodbye!\")\n",
    "\n",
    "say_hello()\n",
    "say_goodbye()\n"
   ]
  },
  {
   "cell_type": "code",
   "execution_count": 6,
   "id": "b4a518f9",
   "metadata": {},
   "outputs": [
    {
     "name": "stdout",
     "output_type": "stream",
     "text": [
      "1\n",
      "2\n",
      "3\n",
      "4\n",
      "5\n"
     ]
    }
   ],
   "source": [
    "#GENERATOR :\n",
    "def count_up_to(n):\n",
    "    count = 1\n",
    "    while count <= n:\n",
    "        yield count\n",
    "        count += 1\n",
    "\n",
    "gen = count_up_to(5)\n",
    "for num in gen:\n",
    "    print(num)\n"
   ]
  },
  {
   "cell_type": "code",
   "execution_count": 11,
   "id": "9fbf826c",
   "metadata": {},
   "outputs": [
    {
     "name": "stdout",
     "output_type": "stream",
     "text": [
      "0\n",
      "2\n",
      "4\n",
      "6\n",
      "8\n"
     ]
    }
   ],
   "source": [
    "#GENERATOR EXPRESSION:\n",
    "gen_exp = (x * 2 for x in range(5))\n",
    "for val in gen_exp:\n",
    "    print(val)"
   ]
  },
  {
   "cell_type": "code",
   "execution_count": 9,
   "id": "c938e13a",
   "metadata": {},
   "outputs": [
    {
     "name": "stdout",
     "output_type": "stream",
     "text": [
      "0\n",
      "1\n",
      "2\n",
      "3\n",
      "4\n",
      "5\n",
      "6\n",
      "7\n",
      "8\n",
      "9\n"
     ]
    }
   ],
   "source": [
    "def infinite_sequence():\n",
    "    num = 0\n",
    "    while True:          # <-- This creates an infinite loop\n",
    "        yield num        # Yield the current value of num\n",
    "        num += 1         # Increment num for the next iteration\n",
    "\n",
    "\n",
    "gen = infinite_sequence()\n",
    "for _ in range(5):\n",
    "    print(next(gen))\n",
    "    print(next(gen))"
   ]
  },
  {
   "cell_type": "code",
   "execution_count": 10,
   "id": "a48963ce",
   "metadata": {},
   "outputs": [
    {
     "name": "stdout",
     "output_type": "stream",
     "text": [
      "0\n",
      "4\n",
      "16\n",
      "36\n",
      "64\n"
     ]
    }
   ],
   "source": [
    "def integers():\n",
    "    for i in range(10):\n",
    "        yield i\n",
    "\n",
    "def squared(seq):\n",
    "    for i in seq:\n",
    "        yield i * i\n",
    "\n",
    "def even(seq):\n",
    "    for i in seq:\n",
    "        if i % 2 == 0:\n",
    "            yield i\n",
    "\n",
    "pipeline = even(squared(integers()))\n",
    "for val in pipeline:\n",
    "    print(val)\n"
   ]
  },
  {
   "cell_type": "code",
   "execution_count": 15,
   "id": "a3c34234",
   "metadata": {},
   "outputs": [
    {
     "name": "stdout",
     "output_type": "stream",
     "text": [
      "Hello, my name is shivam\n"
     ]
    }
   ],
   "source": [
    "\n",
    "class Person:\n",
    "    def __init__(self, name, age):\n",
    "        self.name = name  # attribute\n",
    "        self.age = age    # attribute\n",
    "\n",
    "    def greet(self):\n",
    "        print(f\"Hello, my name is {self.name}\")\n",
    "#You create an object of this the class :\n",
    "p1=Person(\"shivam\",22)\n",
    "p1.greet()\n",
    "\n"
   ]
  },
  {
   "cell_type": "markdown",
   "id": "5716034e",
   "metadata": {},
   "source": [
    "DESTRUCTORS:"
   ]
  },
  {
   "cell_type": "code",
   "execution_count": 61,
   "id": "7a44d99c",
   "metadata": {},
   "outputs": [
    {
     "name": "stdout",
     "output_type": "stream",
     "text": [
      "Constructor called\n",
      "Destructor called for Emma\n"
     ]
    }
   ],
   "source": [
    "class Student:\n",
    "    def __init__(self, name):\n",
    "        print(\"Constructor called\")\n",
    "        self.name = name\n",
    "\n",
    "    def __del__(self):\n",
    "        print(f\"Destructor called for {self.name}\")\n",
    "\n",
    "    \n",
    "\n",
    "s1 = Student(\"Emma\")\n",
    "s2 = s1  # Another reference to the same object\n",
    "del s1   # Object still has one reference (s2), so __del__ NOT called\n",
    "del s2   # Now no references remain, __del__ is called"
   ]
  },
  {
   "cell_type": "markdown",
   "id": "b804744d",
   "metadata": {},
   "source": [
    "PYTHON INHERITANCE :"
   ]
  },
  {
   "cell_type": "code",
   "execution_count": 45,
   "id": "9c3ede12",
   "metadata": {},
   "outputs": [
    {
     "name": "stdout",
     "output_type": "stream",
     "text": [
      "Labrador is the species of animal.\n"
     ]
    }
   ],
   "source": [
    "class Animal:\n",
    "    def __init__(self,species):\n",
    "        self.species=species\n",
    "\n",
    "    def spec(self):\n",
    "        print(f\"{self.species} is the species of animal.\")\n",
    "\n",
    "x=Animal(\"Labrador\")\n",
    "x.spec()\n",
    "    \n",
    "    "
   ]
  },
  {
   "cell_type": "code",
   "execution_count": 46,
   "id": "fb8ccda4",
   "metadata": {},
   "outputs": [
    {
     "name": "stdout",
     "output_type": "stream",
     "text": [
      "shivam of age 22 is a Poodle\n",
      "Labrador is the species of animal.\n"
     ]
    }
   ],
   "source": [
    "class Dog(Animal):\n",
    "    def __init__(self,name,age,species):\n",
    "        super().__init__(species)\n",
    "        self.name=name\n",
    "        self.age=age\n",
    "    def bark(self):\n",
    "        print(f\"{self.name} of age {self.age} is a {self.species}\")\n",
    "y=Dog(\"shivam\",22,\"Poodle\")\n",
    "y.bark()\n",
    "x.spec()\n",
    "    "
   ]
  },
  {
   "cell_type": "markdown",
   "id": "298fac03",
   "metadata": {},
   "source": [
    "INSTANCE VARIABLE "
   ]
  },
  {
   "cell_type": "code",
   "execution_count": 62,
   "id": "bef72119",
   "metadata": {},
   "outputs": [
    {
     "name": "stdout",
     "output_type": "stream",
     "text": [
      "Buddy\n",
      "Max\n"
     ]
    }
   ],
   "source": [
    "class Dog:\n",
    "    def __init__(self, name, age):\n",
    "        self.name = name      # Instance variable\n",
    "        self.age = age        # Instance variable\n",
    "\n",
    "dog1 = Dog(\"Buddy\", 5)\n",
    "dog2 = Dog(\"Max\", 3)\n",
    "\n",
    "print(dog1.name)  # Output: Buddy\n",
    "print(dog2.name)  # Output: Max\n"
   ]
  },
  {
   "cell_type": "markdown",
   "id": "198fefe1",
   "metadata": {},
   "source": [
    "CLASS VARIABLE :"
   ]
  },
  {
   "cell_type": "code",
   "execution_count": null,
   "id": "ab076c3a",
   "metadata": {},
   "outputs": [
    {
     "name": "stdout",
     "output_type": "stream",
     "text": [
      "Canis familiaris\n",
      "Buddy\n",
      "Canis familiaris\n",
      "LABRR\n"
     ]
    }
   ],
   "source": [
    "class Dog:\n",
    "    species = \"Canis familiaris\"  # Class variable\n",
    "\n",
    "    def __init__(self, name, age):\n",
    "        self.name = name          # Instance variable\n",
    "        self.age = age            # Instance variable\n",
    "\n",
    "\n",
    "dog1 = Dog(\"Buddy\", 5)\n",
    "dog2 = Dog(\"Max\", 3)\n",
    "\n",
    "print(dog1.species)  # Output: Canis familiaris\n",
    "print(dog1.name)\n",
    "print(dog2.species)  # Output: Canis familiaris\n",
    "Dog.species=\"LABRR\" #CHANGED CLASS VARIABLE \n",
    "print(dog1.species)\n"
   ]
  },
  {
   "cell_type": "markdown",
   "id": "261b0534",
   "metadata": {},
   "source": [
    "ENCAPSULATION :"
   ]
  },
  {
   "cell_type": "code",
   "execution_count": null,
   "id": "30994e1e",
   "metadata": {},
   "outputs": [
    {
     "name": "stdout",
     "output_type": "stream",
     "text": [
      "10\n",
      "15\n"
     ]
    }
   ],
   "source": [
    "class Tree:\n",
    "    def __init__(self, height):\n",
    "        self.__height = height  # Private attribute\n",
    "\n",
    "    @property #FIXED DECORATOR NAME FOR GETTER\n",
    "    def hiight(self):\n",
    "        # Getter method\n",
    "        return self.__height\n",
    "\n",
    "    @hiight.setter #FIXED BUT CHANGE NAME ACCORDING TO THE NAME OF FUNCTION\n",
    "    def hi(self, value):\n",
    "        # Setter method with validation\n",
    "        if value < 0:\n",
    "            raise ValueError(\"Height cannot be negative\")\n",
    "        self.__height = value\n",
    "\n",
    "pine = Tree(10)\n",
    "print(pine.hiight)   # Access via getter\n",
    "pine.hi = 15     # Modify via setter\n",
    "print(pine.hi)\n",
    "#pine.hi = -5   # Raises ValueError\n"
   ]
  },
  {
   "cell_type": "markdown",
   "id": "d9ac4eb8",
   "metadata": {},
   "source": [
    "INSTANCE METHOD :"
   ]
  },
  {
   "cell_type": "code",
   "execution_count": 89,
   "id": "1688d988",
   "metadata": {},
   "outputs": [
    {
     "name": "stdout",
     "output_type": "stream",
     "text": [
      "SURYANSH is the name of dog\n"
     ]
    }
   ],
   "source": [
    "class Dogs():\n",
    "    def dig(self,name):\n",
    "        self.name=name \n",
    "    def bark(self):\n",
    "        print(f\"{self.name} is the name of dog\")\n",
    "dog3=Dogs()\n",
    "dog3.dig(\"SURYANSH\")\n",
    "dog3.bark()\n"
   ]
  },
  {
   "cell_type": "markdown",
   "id": "719c2cad",
   "metadata": {},
   "source": [
    "CLASS METHOD :"
   ]
  },
  {
   "cell_type": "code",
   "execution_count": 6,
   "id": "9cd1dd9d",
   "metadata": {},
   "outputs": [
    {
     "name": "stdout",
     "output_type": "stream",
     "text": [
      "The species of cat1 is Luwaq\n"
     ]
    }
   ],
   "source": [
    "class cats:\n",
    "    species=\"Luwaq\"\n",
    "    @classmethod\n",
    "    def cat(cls):\n",
    "        print(f\"The species of cat1 is {cls.species}\")\n",
    "cats.cat()"
   ]
  },
  {
   "cell_type": "markdown",
   "id": "00cad3f4",
   "metadata": {},
   "source": [
    "STATIC METHOD :"
   ]
  },
  {
   "cell_type": "code",
   "execution_count": 92,
   "id": "43b4f947",
   "metadata": {},
   "outputs": [
    {
     "name": "stdout",
     "output_type": "stream",
     "text": [
      "8\n"
     ]
    }
   ],
   "source": [
    "class Maths_code:\n",
    "    @staticmethod\n",
    "    def add(x,y):\n",
    "        return x +y\n",
    "print(Maths_code.add(5,3))"
   ]
  },
  {
   "cell_type": "markdown",
   "id": "4be187fe",
   "metadata": {},
   "source": [
    "CLASS POLYMORPHISM (METHOD OVERRIDING)"
   ]
  },
  {
   "cell_type": "code",
   "execution_count": 2,
   "id": "94989288",
   "metadata": {},
   "outputs": [
    {
     "name": "stdout",
     "output_type": "stream",
     "text": [
      "Car!\n",
      "Boat!\n",
      "Plane!\n"
     ]
    }
   ],
   "source": [
    "class Car:\n",
    "    def move(self):\n",
    "        print(\"Car!\")\n",
    "\n",
    "class Boat:\n",
    "    def move(self):\n",
    "        print(\"Boat!\")\n",
    "\n",
    "class Plane:\n",
    "    def move(self):\n",
    "        print(\"Plane!\")\n",
    "for vehicle in (Car(),Boat(),Plane()):\n",
    "    vehicle.move()"
   ]
  },
  {
   "cell_type": "markdown",
   "id": "93901186",
   "metadata": {},
   "source": [
    "METHOD OVERRIDING MAIN:"
   ]
  },
  {
   "cell_type": "code",
   "execution_count": 4,
   "id": "09e0249d",
   "metadata": {},
   "outputs": [
    {
     "name": "stdout",
     "output_type": "stream",
     "text": [
      "Bark\n",
      "meaw\n"
     ]
    }
   ],
   "source": [
    "class Animal:\n",
    "    def sound(self):\n",
    "        print(\"Sounds of animals\")\n",
    "\n",
    "class Dog(Animal):\n",
    "    def sound(self):\n",
    "        print(\"Bark\")\n",
    "\n",
    "class Cat(Animal):\n",
    "    def sound(self):\n",
    "        print(\"meaw\")\n",
    "\n",
    "dog=Dog()\n",
    "cat=Cat()\n",
    "dog.sound()\n",
    "cat.sound()\n",
    "\n"
   ]
  },
  {
   "cell_type": "markdown",
   "id": "e8a97ee7",
   "metadata": {},
   "source": [
    "POLYMORPHISM OVERLOADING :"
   ]
  },
  {
   "cell_type": "code",
   "execution_count": null,
   "id": "97395859",
   "metadata": {},
   "outputs": [],
   "source": [
    "class Demo:\n",
    "    def show (self,a=None,b=None):\n",
    "        if a is not None and b is not None :\n",
    "            print(a,b)\n",
    "        elif a is not None:\n",
    "            print(a)\n",
    "        else:\n",
    "            print(\"No Arguments\")"
   ]
  }
 ],
 "metadata": {
  "kernelspec": {
   "display_name": "Python 3",
   "language": "python",
   "name": "python3"
  },
  "language_info": {
   "codemirror_mode": {
    "name": "ipython",
    "version": 3
   },
   "file_extension": ".py",
   "mimetype": "text/x-python",
   "name": "python",
   "nbconvert_exporter": "python",
   "pygments_lexer": "ipython3",
   "version": "3.12.1"
  }
 },
 "nbformat": 4,
 "nbformat_minor": 5
}
