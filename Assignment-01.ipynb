{
 "cells": [
  {
   "cell_type": "markdown",
   "metadata": {},
   "source": [
    "ASSIGNMENT -01 "
   ]
  },
  {
   "cell_type": "markdown",
   "metadata": {},
   "source": [
    "USECASE -01:"
   ]
  },
  {
   "cell_type": "code",
   "execution_count": 101,
   "metadata": {},
   "outputs": [
    {
     "name": "stdout",
     "output_type": "stream",
     "text": [
      "Shivam Shekhar\n",
      "Pandey\n",
      "full name and last name of candidate: Shivam Shekhar Pandey\n",
      "age is: 22\n"
     ]
    }
   ],
   "source": [
    "full_name=str(input(\"Enter the full name of the candidate:\"))\n",
    "print(full_name)\n",
    "last_name=str(input(\"Enter the last name of the candidate:\"))\n",
    "print(last_name)\n",
    "print(\"full name and last name of candidate:\",full_name,last_name)\n",
    "age=int(input(\"Enter the age of the candidate:\"))\n",
    "print(\"age is:\",age)\n",
    "\n",
    "\n",
    "\n",
    "\n"
   ]
  },
  {
   "cell_type": "markdown",
   "metadata": {},
   "source": [
    "USECASE -02:"
   ]
  },
  {
   "cell_type": "code",
   "execution_count": 54,
   "metadata": {},
   "outputs": [
    {
     "name": "stdout",
     "output_type": "stream",
     "text": [
      "to kill a bird by steve jobs\n",
      "titanic by alexander\n",
      "microsoft by alon musk\n"
     ]
    }
   ],
   "source": [
    "#CREATING A PROGRAM FOR MANAGING A LIBRARY\n",
    "\n",
    "def format_book_info(title,author):\n",
    "    return f\"{title}\"+ \" by \"+ f\"{author}\"\n",
    "book_information=(format_book_info(\"to kill a bird\",\"steve jobs\"))\n",
    "print(book_information)\n",
    "book_information2=(format_book_info(\"titanic\",\"alexander\"))\n",
    "print(book_information2)\n",
    "book_information3=(format_book_info(\"microsoft\",\"alon musk\"))\n",
    "print(book_information3)\n",
    "\n",
    "\n"
   ]
  },
  {
   "cell_type": "markdown",
   "metadata": {},
   "source": [
    "USECASE-03:"
   ]
  },
  {
   "cell_type": "code",
   "execution_count": 59,
   "metadata": {},
   "outputs": [
    {
     "ename": "AttributeError",
     "evalue": "'str' object attribute 'title' is read-only",
     "output_type": "error",
     "traceback": [
      "\u001b[31m---------------------------------------------------------------------------\u001b[39m",
      "\u001b[31mAttributeError\u001b[39m                            Traceback (most recent call last)",
      "\u001b[36mCell\u001b[39m\u001b[36m \u001b[39m\u001b[32mIn[59]\u001b[39m\u001b[32m, line 11\u001b[39m\n\u001b[32m      9\u001b[39m  \u001b[38;5;28mprint\u001b[39m(\u001b[33m\"\u001b[39m\u001b[33mauthor:\u001b[39m\u001b[33m\"\u001b[39m,\u001b[38;5;28mself\u001b[39m.author)\n\u001b[32m     10\u001b[39m  \u001b[38;5;28mprint\u001b[39m(\u001b[33m\"\u001b[39m\u001b[33mpublication_year:\u001b[39m\u001b[33m\"\u001b[39m,\u001b[38;5;28mself\u001b[39m.publication_year)\n\u001b[32m---> \u001b[39m\u001b[32m11\u001b[39m today_library=\u001b[43mlibrary_management\u001b[49m\u001b[43m(\u001b[49m\u001b[33;43m\"\u001b[39;49m\u001b[33;43mtime\u001b[39;49m\u001b[33;43m\"\u001b[39;49m\u001b[43m,\u001b[49m\u001b[33;43m\"\u001b[39;49m\u001b[33;43mtorry guy\u001b[39;49m\u001b[33;43m\"\u001b[39;49m\u001b[43m,\u001b[49m\u001b[33;43m\"\u001b[39;49m\u001b[33;43m2025\u001b[39;49m\u001b[33;43m\"\u001b[39;49m\u001b[43m,\u001b[49m\u001b[33;43m\"\u001b[39;49m\u001b[33;43m2026\u001b[39;49m\u001b[33;43m\"\u001b[39;49m\u001b[43m)\u001b[49m\n\u001b[32m     12\u001b[39m \u001b[38;5;28mprint\u001b[39m(today_library)\n",
      "\u001b[36mCell\u001b[39m\u001b[36m \u001b[39m\u001b[32mIn[59]\u001b[39m\u001b[32m, line 4\u001b[39m, in \u001b[36mlibrary_management\u001b[39m\u001b[34m(self, title, author, publication_year)\u001b[39m\n\u001b[32m      3\u001b[39m \u001b[38;5;28;01mdef\u001b[39;00m\u001b[38;5;250m \u001b[39m\u001b[34mlibrary_management\u001b[39m(\u001b[38;5;28mself\u001b[39m,title,author,publication_year):\n\u001b[32m----> \u001b[39m\u001b[32m4\u001b[39m      \u001b[38;5;28;43mself\u001b[39;49m\u001b[43m.\u001b[49m\u001b[43mtitle\u001b[49m=title\n\u001b[32m      5\u001b[39m      \u001b[38;5;28mself\u001b[39m.author=author\n\u001b[32m      6\u001b[39m      \u001b[38;5;28mself\u001b[39m.pulication_year=publication_year\n",
      "\u001b[31mAttributeError\u001b[39m: 'str' object attribute 'title' is read-only"
     ]
    }
   ],
   "source": [
    "#WRITE A PROGRAM FOR LIBRARY MANAGEMENT \n",
    "\n",
    "def library_management(self,title,author,publication_year):\n",
    "     self.title=title\n",
    "     self.author=author\n",
    "     self.pulication_year=publication_year\n",
    "def display_library(self):\n",
    " print(\"title:\",self.title)\n",
    " print(\"author:\",self.author)\n",
    " print(\"publication_year:\",self.publication_year)\n",
    "today_library=library_management(\"time\",\"torry guy\",\"2025\",\"2026\")\n",
    "print(today_library)\n",
    "    "
   ]
  },
  {
   "cell_type": "markdown",
   "metadata": {},
   "source": [
    "USECASE-04:"
   ]
  },
  {
   "cell_type": "code",
   "execution_count": 105,
   "metadata": {},
   "outputs": [
    {
     "name": "stdout",
     "output_type": "stream",
     "text": [
      "Items in shopping cart:\n",
      "-orange\n",
      "-apple\n"
     ]
    }
   ],
   "source": [
    "class Cart:\n",
    "    def __init__(tropical):\n",
    "        tropical.item=[]\n",
    "    def add_item(tropical,item):\n",
    "        tropical.item.append(item)\n",
    "    def display_item(tropical):\n",
    "        print(\"Items in shopping cart:\")\n",
    "        for item in tropical.item:\n",
    "            print(\"-\"+ item)\n",
    "obj=Cart()\n",
    "obj.add_item(\"orange\")\n",
    "obj.add_item(\"apple\")\n",
    "obj.display_item()\n",
    "\n",
    "    "
   ]
  },
  {
   "cell_type": "markdown",
   "metadata": {},
   "source": [
    "QUESTION NO. 03:"
   ]
  },
  {
   "cell_type": "code",
   "execution_count": 18,
   "metadata": {},
   "outputs": [
    {
     "ename": "TypeError",
     "evalue": "unsupported operand type(s) for /: 'str' and 'int'",
     "output_type": "error",
     "traceback": [
      "\u001b[31m---------------------------------------------------------------------------\u001b[39m",
      "\u001b[31mTypeError\u001b[39m                                 Traceback (most recent call last)",
      "\u001b[36mCell\u001b[39m\u001b[36m \u001b[39m\u001b[32mIn[18]\u001b[39m\u001b[32m, line 4\u001b[39m\n\u001b[32m      2\u001b[39m \u001b[38;5;28;01mdef\u001b[39;00m\u001b[38;5;250m \u001b[39m\u001b[34mtemp\u001b[39m(temperature:\u001b[38;5;28mfloat\u001b[39m,fahrenheit:\u001b[38;5;28mfloat\u001b[39m):\n\u001b[32m      3\u001b[39m     \u001b[38;5;28;01mreturn\u001b[39;00m fahrenheit==(\u001b[33mf\u001b[39m\u001b[33m\"\u001b[39m\u001b[38;5;132;01m{\u001b[39;00mtemperature\u001b[38;5;132;01m}\u001b[39;00m\u001b[33m\"\u001b[39m* \u001b[32m9\u001b[39m/\u001b[32m5\u001b[39m)+\u001b[32m32\u001b[39m\n\u001b[32m----> \u001b[39m\u001b[32m4\u001b[39m thermo=\u001b[43mtemp\u001b[49m\u001b[43m(\u001b[49m\u001b[33;43m\"\u001b[39;49m\u001b[33;43mtemperature\u001b[39;49m\u001b[33;43m\"\u001b[39;49m\u001b[43m,\u001b[49m\u001b[33;43m\"\u001b[39;49m\u001b[33;43mfahrenheit\u001b[39;49m\u001b[33;43m\"\u001b[39;49m\u001b[43m)\u001b[49m\n\u001b[32m      5\u001b[39m \u001b[38;5;28mprint\u001b[39m(thermo)\n",
      "\u001b[36mCell\u001b[39m\u001b[36m \u001b[39m\u001b[32mIn[18]\u001b[39m\u001b[32m, line 3\u001b[39m, in \u001b[36mtemp\u001b[39m\u001b[34m(temperature, fahrenheit)\u001b[39m\n\u001b[32m      2\u001b[39m \u001b[38;5;28;01mdef\u001b[39;00m\u001b[38;5;250m \u001b[39m\u001b[34mtemp\u001b[39m(temperature:\u001b[38;5;28mfloat\u001b[39m,fahrenheit:\u001b[38;5;28mfloat\u001b[39m):\n\u001b[32m----> \u001b[39m\u001b[32m3\u001b[39m     \u001b[38;5;28;01mreturn\u001b[39;00m fahrenheit==(\u001b[33;43mf\u001b[39;49m\u001b[33;43m\"\u001b[39;49m\u001b[38;5;132;43;01m{\u001b[39;49;00m\u001b[43mtemperature\u001b[49m\u001b[38;5;132;43;01m}\u001b[39;49;00m\u001b[33;43m\"\u001b[39;49m\u001b[43m*\u001b[49m\u001b[43m \u001b[49m\u001b[32;43m9\u001b[39;49m\u001b[43m/\u001b[49m\u001b[32;43m5\u001b[39;49m)+\u001b[32m32\u001b[39m\n",
      "\u001b[31mTypeError\u001b[39m: unsupported operand type(s) for /: 'str' and 'int'"
     ]
    }
   ],
   "source": [
    "temperature=float(input(\"Enter temperature in celcius\"))\n",
    "def temp(temperature:float,fahrenheit:float):\n",
    "    return fahrenheit==(f\"{temperature}\"* 9/5)+32\n",
    "thermo=temp(\"temperature\",\"fahrenheit\")\n",
    "print(thermo)\n"
   ]
  },
  {
   "cell_type": "markdown",
   "metadata": {},
   "source": [
    "QUESTION NO.02:"
   ]
  },
  {
   "cell_type": "code",
   "execution_count": 35,
   "metadata": {},
   "outputs": [
    {
     "name": "stdout",
     "output_type": "stream",
     "text": [
      "mavihs\n",
      "rahkehs\n"
     ]
    }
   ],
   "source": [
    "user_first=str(input(\"Enter the user's first name:\"))\n",
    "user_surname=str(input(\"Enter the user's surname:\"))\n",
    "x=user_first[ : :-1]\n",
    "print(x)\n",
    "y=user_surname[ : :-1]\n",
    "print(y)"
   ]
  },
  {
   "cell_type": "markdown",
   "metadata": {},
   "source": [
    "Question 03:"
   ]
  },
  {
   "cell_type": "code",
   "execution_count": 39,
   "metadata": {},
   "outputs": [
    {
     "name": "stdout",
     "output_type": "stream",
     "text": [
      "54321\n"
     ]
    }
   ],
   "source": [
    "number=str(input(\"Enter the number:\"))\n",
    "txt=number[::-1]\n",
    "print(txt)"
   ]
  },
  {
   "cell_type": "markdown",
   "metadata": {},
   "source": [
    "Question 04:"
   ]
  },
  {
   "cell_type": "code",
   "execution_count": 50,
   "metadata": {},
   "outputs": [
    {
     "name": "stdout",
     "output_type": "stream",
     "text": [
      "2025-05-22 17:22:52.038982\n",
      "2025-05-20 17:22:52.038982\n",
      "2025-05-23 17:22:52.038982\n"
     ]
    }
   ],
   "source": [
    "from datetime import datetime,timedelta\n",
    "presentday=datetime.now()\n",
    "print(presentday)\n",
    "yesterday=presentday- timedelta(2)\n",
    "print(yesterday)\n",
    "tomorrow=presentday+ timedelta(1)\n",
    "print(tomorrow)\n",
    "\n"
   ]
  },
  {
   "cell_type": "markdown",
   "metadata": {},
   "source": [
    "Question 05:"
   ]
  },
  {
   "cell_type": "code",
   "execution_count": 56,
   "metadata": {},
   "outputs": [
    {
     "name": "stdout",
     "output_type": "stream",
     "text": [
      "No! This number is not present in the given list. \n"
     ]
    }
   ],
   "source": [
    "a=[20,30,40,50,60,120]\n",
    "if 90 in a:\n",
    "    print(\"Yes!This number is present in the given list.\")\n",
    "else:\n",
    "    print(\"No! This number is not present in the given list. \")"
   ]
  },
  {
   "cell_type": "markdown",
   "metadata": {},
   "source": [
    "Question 06:"
   ]
  },
  {
   "cell_type": "code",
   "execution_count": 59,
   "metadata": {},
   "outputs": [
    {
     "name": "stdout",
     "output_type": "stream",
     "text": [
      "500\n"
     ]
    }
   ],
   "source": [
    "b=[120.150,180,200,250,500,100,70,20]\n",
    "txt=max(b)\n",
    "print(txt)"
   ]
  },
  {
   "cell_type": "markdown",
   "metadata": {},
   "source": [
    "Question 07:"
   ]
  },
  {
   "cell_type": "code",
   "execution_count": 66,
   "metadata": {},
   "outputs": [
    {
     "name": "stdout",
     "output_type": "stream",
     "text": [
      "6\n",
      "list after swapping [17, 13, 14, 15, 16, 12]\n"
     ]
    }
   ],
   "source": [
    "my_list=[12,13,14,15,16,17]\n",
    "size=len(my_list)\n",
    "print(size)\n",
    "tem=my_list[0]\n",
    "my_list[0]=my_list[5]\n",
    "my_list[5]=tem\n",
    "\n",
    "print(\"list after swapping\",my_list)"
   ]
  },
  {
   "cell_type": "markdown",
   "metadata": {},
   "source": [
    "Question 09:"
   ]
  },
  {
   "cell_type": "code",
   "execution_count": 69,
   "metadata": {},
   "outputs": [
    {
     "name": "stdout",
     "output_type": "stream",
     "text": [
      "[2, 4, 6, 8, 10]\n",
      "[11, 13, 15, 17, 19]\n"
     ]
    }
   ],
   "source": [
    "my_list1=[1,2,3,4,5,6,7,8,9,10]\n",
    "odd_index=my_list1[1::2]\n",
    "my_list2=[11,12,13,14,15,16,17,18,19,20]\n",
    "even_index=my_list2[::2]\n",
    "print(odd_index)\n",
    "print(even_index)"
   ]
  },
  {
   "cell_type": "markdown",
   "metadata": {},
   "source": [
    "Question:10"
   ]
  },
  {
   "cell_type": "code",
   "execution_count": 88,
   "metadata": {},
   "outputs": [
    {
     "name": "stdout",
     "output_type": "stream",
     "text": [
      "Bag\n",
      "80\n",
      "Earphones\n",
      "20\n",
      "Bottle\n",
      "50\n"
     ]
    }
   ],
   "source": [
    "class Shopping_cart:\n",
    "    def __init__(self,item,price:int):\n",
    "        self.item=item\n",
    "        self.price=price\n",
    "p1=Shopping_cart(\"Bottle\",50)\n",
    "p2=Shopping_cart(\"Bag\",80)\n",
    "p3=Shopping_cart(\"Earphones\",20)\n",
    "print(p2.item)\n",
    "print(p2.price)\n",
    "print(p3.item)\n",
    "print(p3.price)\n",
    "print(p1.item)\n",
    "print(p1.price)\n",
    "\n"
   ]
  },
  {
   "cell_type": "code",
   "execution_count": 87,
   "metadata": {},
   "outputs": [
    {
     "name": "stdout",
     "output_type": "stream",
     "text": [
      "30\n"
     ]
    }
   ],
   "source": [
    "p3.price=30\n",
    "print(p3.price)\n",
    "del p1.item\n"
   ]
  }
 ],
 "metadata": {
  "kernelspec": {
   "display_name": "Python 3.12.1 64-bit",
   "language": "python",
   "name": "python3"
  },
  "language_info": {
   "codemirror_mode": {
    "name": "ipython",
    "version": 3
   },
   "file_extension": ".py",
   "mimetype": "text/x-python",
   "name": "python",
   "nbconvert_exporter": "python",
   "pygments_lexer": "ipython3",
   "version": "3.12.1"
  },
  "orig_nbformat": 4,
  "vscode": {
   "interpreter": {
    "hash": "8ce2ce319f49e0b662d1569cecf3548defb0c46dfe8a5ed0095864e2194a15b4"
   }
  }
 },
 "nbformat": 4,
 "nbformat_minor": 2
}
