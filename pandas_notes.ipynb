{
 "cells": [
  {
   "cell_type": "markdown",
   "id": "984e542b",
   "metadata": {},
   "source": [
    "SERIES DATA STRUCTURE:"
   ]
  },
  {
   "cell_type": "code",
   "execution_count": null,
   "id": "1becfd32",
   "metadata": {},
   "outputs": [],
   "source": [
    "import pandas as pd\n",
    "s = pd.Series([10, 20, 30], index=['a', 'b', 'c'])\n",
    "print(s)\n",
    "# Output:\n",
    "# a    10\n",
    "# b    20\n",
    "# c    30\n",
    "# dtype: int64\n",
    "\n",
    "# FEATURES:\n",
    "# HOMOGENOUS DATA TYPE \n",
    "# ECH ELEMENT IS ASSOCIATED WITH A INDEX LABEL\n",
    "# CANNOT CHANGE LENGTH AFTER CREATION"
   ]
  },
  {
   "cell_type": "markdown",
   "id": "9044a34e",
   "metadata": {},
   "source": [
    "DATA FRAME :"
   ]
  },
  {
   "cell_type": "code",
   "execution_count": 5,
   "id": "dc2ff490",
   "metadata": {},
   "outputs": [
    {
     "name": "stdout",
     "output_type": "stream",
     "text": [
      "    Name  Age  Gender  Rating\n",
      "0  Steve   32    Male    3.45\n",
      "1    Lia   28  Female    4.60\n",
      "2    Vin   45    Male    3.90\n",
      "3  Katie   38  Female    2.78\n"
     ]
    }
   ],
   "source": [
    "import pandas as pd \n",
    "data = {\n",
    "    'Name': ['Steve', 'Lia', 'Vin', 'Katie'],\n",
    "    'Age': [32, 28, 45, 38],\n",
    "    'Gender': ['Male', 'Female', 'Male', 'Female'],\n",
    "    'Rating': [3.45, 4.6, 3.9, 2.78]\n",
    "}\n",
    "df = pd.DataFrame(data)\n",
    "print(df)\n"
   ]
  },
  {
   "cell_type": "code",
   "execution_count": 8,
   "id": "32bf0cf6",
   "metadata": {},
   "outputs": [
    {
     "name": "stdout",
     "output_type": "stream",
     "text": [
      "0    Steve\n",
      "1      Lia\n",
      "2      Vin\n",
      "3    Katie\n",
      "Name: Name, dtype: object\n",
      "<pandas.core.indexing._iLocIndexer object at 0x000001115D48F660>\n",
      "    Name  Age  Gender  Rating\n",
      "0  Steve   32    Male    3.45\n",
      "1    Lia   28  Female    4.60\n",
      "2    Vin   45    Male    3.90\n",
      "3  Katie   38  Female    2.78\n"
     ]
    }
   ],
   "source": [
    "import pandas as pd \n",
    "data = {\n",
    "    'Name': ['Steve', 'Lia', 'Vin', 'Katie'],\n",
    "    'Age': [32, 28, 45, 38],\n",
    "    'Gender': ['Male', 'Female', 'Male', 'Female'],\n",
    "    'Rating': [3.45, 4.6, 3.9, 2.78]\n",
    "}\n",
    "df = pd.DataFrame(data)\n",
    "print(df['Name']) #ACCESSING A COLUMN -- RETURNS A SERIES \n",
    "print(df.iloc)\n",
    "print(df)"
   ]
  },
  {
   "cell_type": "markdown",
   "id": "20169f3c",
   "metadata": {},
   "source": [
    "CREATING AN EMPTY SERIES :"
   ]
  },
  {
   "cell_type": "code",
   "execution_count": 9,
   "id": "a02b2afb",
   "metadata": {},
   "outputs": [
    {
     "name": "stdout",
     "output_type": "stream",
     "text": [
      "Series([], dtype: object)\n"
     ]
    }
   ],
   "source": [
    "import pandas as pd \n",
    "empty_series=pd.Series()\n",
    "print(empty_series)"
   ]
  },
  {
   "cell_type": "markdown",
   "id": "b5718cdd",
   "metadata": {},
   "source": [
    "conversion of an array directly to a series:"
   ]
  },
  {
   "cell_type": "code",
   "execution_count": 2,
   "id": "4fd59706",
   "metadata": {},
   "outputs": [
    {
     "name": "stdout",
     "output_type": "stream",
     "text": [
      "0    a\n",
      "1    b\n",
      "2    c\n",
      "dtype: object\n"
     ]
    }
   ],
   "source": [
    "import numpy as np\n",
    "import pandas as pd\n",
    "\n",
    "arr = np.array(['a', 'b', 'c'])\n",
    "series_from_ndarray = pd.Series(arr)\n",
    "print(series_from_ndarray)\n"
   ]
  },
  {
   "cell_type": "markdown",
   "id": "587ef5ed",
   "metadata": {},
   "source": [
    "CREATING SERIES FROM DICTIONARY :"
   ]
  },
  {
   "cell_type": "code",
   "execution_count": 4,
   "id": "f27dac9c",
   "metadata": {},
   "outputs": [
    {
     "name": "stdout",
     "output_type": "stream",
     "text": [
      "a    10\n",
      "b    20\n",
      "c    30\n",
      "dtype: int64\n"
     ]
    }
   ],
   "source": [
    "data_dict = {'a': 10, 'b': 20, 'c': 30}\n",
    "series_from_dict = pd.Series(data_dict)\n",
    "print(series_from_dict)\n"
   ]
  },
  {
   "cell_type": "markdown",
   "id": "af125a05",
   "metadata": {},
   "source": [
    "WE CAN SPECIFY INDEX FOR A VALUE SPECIFICALLY :"
   ]
  },
  {
   "cell_type": "code",
   "execution_count": 5,
   "id": "1584c7ef",
   "metadata": {},
   "outputs": [
    {
     "name": "stdout",
     "output_type": "stream",
     "text": [
      "a    5\n",
      "b    5\n",
      "c    5\n",
      "dtype: int64\n"
     ]
    }
   ],
   "source": [
    "scalar_series = pd.Series(5, index=['a', 'b', 'c'])\n",
    "print(scalar_series)\n"
   ]
  },
  {
   "cell_type": "markdown",
   "id": "3b26a3a0",
   "metadata": {},
   "source": [
    ".iloc[]:TO ACCESS ELEMENTS BY SPECIFYING INDEXING -->"
   ]
  },
  {
   "cell_type": "code",
   "execution_count": null,
   "id": "9bac03ed",
   "metadata": {},
   "outputs": [
    {
     "name": "stdout",
     "output_type": "stream",
     "text": [
      "10\n",
      "20\n"
     ]
    }
   ],
   "source": [
    "s = pd.Series([10, 20, 30], index=['a', 'b', 'c'])\n",
    "print(s.loc['a'])  # Output: 10 #.loc[]: ACCESSING BY LABELS THE VALUES: \n",
    "print(s.iloc[1])  # Output: 20\n"
   ]
  },
  {
   "cell_type": "markdown",
   "id": "a2b3062e",
   "metadata": {},
   "source": [
    "EMPTY DATA FRAME :"
   ]
  },
  {
   "cell_type": "code",
   "execution_count": 8,
   "id": "0a809f99",
   "metadata": {},
   "outputs": [
    {
     "name": "stdout",
     "output_type": "stream",
     "text": [
      "Empty DataFrame\n",
      "Columns: []\n",
      "Index: []\n"
     ]
    }
   ],
   "source": [
    "import pandas as pd\n",
    "\n",
    "df_empty = pd.DataFrame()\n",
    "print(df_empty)\n"
   ]
  },
  {
   "cell_type": "code",
   "execution_count": 10,
   "id": "dd6319ef",
   "metadata": {},
   "outputs": [
    {
     "name": "stdout",
     "output_type": "stream",
     "text": [
      "  Courses    Fee Duration\n",
      "a   Spark  20000   30days\n",
      "b  Pandas  25000   40days\n"
     ]
    }
   ],
   "source": [
    "import pandas as pd\n",
    "data = [[\"Spark\", 20000, \"30days\"],\n",
    "        [\"Pandas\", 25000, \"40days\"]]\n",
    "\n",
    "df = pd.DataFrame(data, columns=[\"Courses\", \"Fee\", \"Duration\"],index=[\"a\", \"b\"])\n",
    "print(df)\n"
   ]
  },
  {
   "cell_type": "code",
   "execution_count": null,
   "id": "3d33267c",
   "metadata": {},
   "outputs": [],
   "source": [
    "#FROM DICTIONARY OF NDARRAYS :"
   ]
  },
  {
   "cell_type": "code",
   "execution_count": 11,
   "id": "81dadf78",
   "metadata": {},
   "outputs": [
    {
     "name": "stdout",
     "output_type": "stream",
     "text": [
      "  Courses    Fee Duration\n",
      "0   Spark  20000   30days\n",
      "1  Pandas  25000   40days\n"
     ]
    }
   ],
   "source": [
    "data_dict = {\n",
    "    'Courses': [\"Spark\", \"Pandas\"],\n",
    "    'Fee': [20000, 25000],\n",
    "    'Duration': ['30days', '40days']\n",
    "}\n",
    "\n",
    "df = pd.DataFrame(data_dict)\n",
    "print(df)\n"
   ]
  },
  {
   "cell_type": "markdown",
   "id": "866a5b90",
   "metadata": {},
   "source": [
    "LIST OF DICTIONARIES :"
   ]
  },
  {
   "cell_type": "code",
   "execution_count": 12,
   "id": "3aaec5d4",
   "metadata": {},
   "outputs": [
    {
     "name": "stdout",
     "output_type": "stream",
     "text": [
      "  Courses    Fee Duration\n",
      "0   Spark  20000   30days\n",
      "1  Pandas  25000   40days\n"
     ]
    }
   ],
   "source": [
    "data_list_dicts = [\n",
    "    {'Courses': 'Spark', 'Fee': 20000, 'Duration': '30days'},\n",
    "    {'Courses': 'Pandas', 'Fee': 25000, 'Duration': '40days'}\n",
    "]\n",
    "\n",
    "df = pd.DataFrame(data_list_dicts)\n",
    "print(df)\n"
   ]
  },
  {
   "cell_type": "code",
   "execution_count": 15,
   "id": "54ca590a",
   "metadata": {},
   "outputs": [
    {
     "name": "stdout",
     "output_type": "stream",
     "text": [
      "   Courses  Course_Fee Course_Duration\n",
      "r1   Spark       20000          30days\n",
      "r2  Pandas       25000          40days\n"
     ]
    }
   ],
   "source": [
    "courses = pd.Series([\"Spark\", \"Pandas\"], index=['r1', 'r2'])\n",
    "fees = pd.Series([20000, 25000], index=['r1', 'r2'])\n",
    "duration = pd.Series(['30days', '40days'], index=['r1', 'r2'])\n",
    "\n",
    "df = pd.concat({'Courses': courses, 'Course_Fee': fees, 'Course_Duration': duration}, axis=1)\n",
    "print(df)\n"
   ]
  },
  {
   "cell_type": "markdown",
   "id": "b295ba5e",
   "metadata": {},
   "source": [
    "Select column\t                 df['col'] or df[['col1', 'col2']]--df['Courses']\n",
    "Add column\t                     df['new_col'] = values\t--df['Discount'] = [1000][1500]\n",
    "Delete column\t                 del df['col'] or df.drop('col', axis=1)--df = df.drop('Discount', axis=1)\n",
    "Select row\t                     df.loc[label] or df.iloc[pos]--\tdf.loc['r1']\n",
    "Add row\t                         df.loc[new_label] = [...] or pd.concat()--\tdf.loc['r3'] = [...]\n",
    "Delete row\t                     df.drop(label)\t--df = df.drop('r3')"
   ]
  },
  {
   "cell_type": "markdown",
   "id": "2945b17b",
   "metadata": {},
   "source": [
    "CREATE DATA FRAME :"
   ]
  },
  {
   "cell_type": "code",
   "execution_count": 16,
   "id": "92046e15",
   "metadata": {},
   "outputs": [
    {
     "name": "stdout",
     "output_type": "stream",
     "text": [
      "   calories  duration\n",
      "0       420        50\n",
      "1       380        40\n",
      "2       390        45\n"
     ]
    }
   ],
   "source": [
    "import pandas as pd\n",
    "data = {\"calories\": [420, 380, 390], \"duration\": [50, 40, 45]}\n",
    "df = pd.DataFrame(data)\n",
    "print(df)\n"
   ]
  },
  {
   "cell_type": "markdown",
   "id": "3ed5f55a",
   "metadata": {},
   "source": [
    "REINDEXING :"
   ]
  },
  {
   "cell_type": "code",
   "execution_count": null,
   "id": "2ffd7b71",
   "metadata": {},
   "outputs": [
    {
     "name": "stdout",
     "output_type": "stream",
     "text": [
      "     A    B\n",
      "x  1.0  4.0\n",
      "y  2.0  5.0\n",
      "a  NaN  NaN\n",
      "b  NaN  NaN\n",
      "   A  B\n",
      "x  1  4\n",
      "y  2  5\n",
      "a  0  0\n"
     ]
    }
   ],
   "source": [
    "import pandas as pd\n",
    "\n",
    "df = pd.DataFrame({'A': [1, 2, 3], 'B': [4, 5, 6]}, index=['x', 'y', 'z'])\n",
    "new_df = df.reindex(['x', 'y', 'a', 'b'])\n",
    "print(new_df)\n",
    "new_1=df.reindex(['x', 'y', 'a'], fill_value=0) #FILLING A SPECIFIC VALUE \n",
    "print(new_1)\n",
    "\n"
   ]
  },
  {
   "cell_type": "markdown",
   "id": "a4605304",
   "metadata": {},
   "source": [
    "Change index/columns \treindex()\t      Add/reorder rows/columns, fill missing with NaN or value\n",
    "Fill missing values \tfill_value, method\t  Fill with value or use ffill/bfill\n",
    "Limit fills\t             limit\t                Max consecutive fills\n",
    "Align with other object\t reindex(other.index)\tMatch index/columns to another object\n",
    "Rename labels\t        rename()\tChange names, does not add/remove rows/cols"
   ]
  },
  {
   "cell_type": "markdown",
   "id": "85ac343b",
   "metadata": {},
   "source": [
    "FILLING MISSING DATA:"
   ]
  },
  {
   "cell_type": "code",
   "execution_count": null,
   "id": "8a7bc8bf",
   "metadata": {},
   "outputs": [],
   "source": [
    "df.fillna(0)  # Replace NaN with 0\n",
    "df.fillna(method='ffill')  # Forward fill: propagate last valid value forward\n",
    "df.fillna(method='bfill')  # Backward fill: use next valid value backward\n"
   ]
  },
  {
   "cell_type": "markdown",
   "id": "f2a17f68",
   "metadata": {},
   "source": []
  }
 ],
 "metadata": {
  "kernelspec": {
   "display_name": "Python 3",
   "language": "python",
   "name": "python3"
  },
  "language_info": {
   "codemirror_mode": {
    "name": "ipython",
    "version": 3
   },
   "file_extension": ".py",
   "mimetype": "text/x-python",
   "name": "python",
   "nbconvert_exporter": "python",
   "pygments_lexer": "ipython3",
   "version": "3.12.1"
  }
 },
 "nbformat": 4,
 "nbformat_minor": 5
}
