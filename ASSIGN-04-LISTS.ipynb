{
 "cells": [
  {
   "cell_type": "markdown",
   "id": "fb7c484a",
   "metadata": {},
   "source": [
    "ASSIGNMENT -04:\n",
    "LISTS"
   ]
  },
  {
   "cell_type": "code",
   "execution_count": 20,
   "id": "3c0b9e80",
   "metadata": {},
   "outputs": [
    {
     "name": "stdout",
     "output_type": "stream",
     "text": [
      "['water', 'watch', 'laptop', 'bottle']\n"
     ]
    }
   ],
   "source": [
    "b=[\"bottle\",\"watch\",\"laptop\",\"water\"]\n",
    "b[0],b[-1]=b[-1],b[0]\n",
    "print(b)"
   ]
  },
  {
   "cell_type": "code",
   "execution_count": 33,
   "id": "5c62ff35",
   "metadata": {},
   "outputs": [
    {
     "name": "stdout",
     "output_type": "stream",
     "text": [
      "['shivam', 'shekhar']\n"
     ]
    }
   ],
   "source": [
    "list1=input(\"Enter any empty string with a normal:\")\n",
    "list1=list.split()\n",
    "list2=[]\n",
    "for x in list1:\n",
    "    if x==\" \":\n",
    "        continue\n",
    "    else:\n",
    "        list2.append(x)\n",
    "print(list2)\n",
    "        \n",
    "\n"
   ]
  },
  {
   "cell_type": "code",
   "execution_count": 44,
   "id": "01076aed",
   "metadata": {},
   "outputs": [
    {
     "name": "stdout",
     "output_type": "stream",
     "text": [
      "['apple', 'cherry', 'Guava', 'Grapes']\n",
      "['banana', 'orange', 'laptop', 'watch']\n"
     ]
    }
   ],
   "source": [
    "list1=[\"apple\",\"cherry\",\"Guava\",\"Grapes\",\"banana\",\"orange\",\"laptop\",\"watch\"]\n",
    "c=list1[0:len(list1)//2]\n",
    "d=list1[len(list1)//2:]\n",
    "print(c)\n",
    "print(d)"
   ]
  },
  {
   "cell_type": "code",
   "execution_count": null,
   "id": "27758f64",
   "metadata": {},
   "outputs": [
    {
     "name": "stdout",
     "output_type": "stream",
     "text": [
      "{'C', 'V', 'D', 'A', 'F', 'B'}\n"
     ]
    }
   ],
   "source": [
    "list4=[\"A\",\"V\",\"D\",\"A\",\"D\",\"C\",\"F\",\"B\"]\n",
    "g=set(list4)\n",
    "print(g)\n",
    "\n"
   ]
  },
  {
   "cell_type": "markdown",
   "id": "9f617183",
   "metadata": {},
   "source": [
    "OR"
   ]
  },
  {
   "cell_type": "code",
   "execution_count": 70,
   "id": "d6a054a8",
   "metadata": {},
   "outputs": [
    {
     "name": "stdout",
     "output_type": "stream",
     "text": [
      "{'A': 2, 'V': 1, 'D': 2, 'C': 1, 'F': 1, 'B': 1}\n",
      "dict_keys(['A', 'V', 'D', 'C', 'F', 'B'])\n"
     ]
    }
   ],
   "source": [
    "li_st=[\"A\",\"V\",\"D\",\"A\",\"D\",\"C\",\"F\",\"B\"]\n",
    "foy={chra:li_st.count(chra) for chra in li_st}\n",
    "print(foy)\n",
    "print(foy.keys())"
   ]
  },
  {
   "cell_type": "markdown",
   "id": "3ff74ad0",
   "metadata": {},
   "source": [
    "OR"
   ]
  },
  {
   "cell_type": "code",
   "execution_count": 7,
   "id": "3feb9bf9",
   "metadata": {},
   "outputs": [
    {
     "name": "stdout",
     "output_type": "stream",
     "text": [
      "['V', 'D', 'D', 'C', 'F', 'B']\n"
     ]
    }
   ],
   "source": [
    "li_st=[\"A\",\"V\",\"D\",\"A\",\"D\",\"C\",\"F\",\"B\"]\n",
    "v=input(\"Enter the element:\")\n",
    "list3=[x for x in li_st if x != v]\n",
    "print(list3)\n",
    "\n",
    "\n",
    "\n"
   ]
  },
  {
   "cell_type": "code",
   "execution_count": 1,
   "id": "ec7beeb1",
   "metadata": {},
   "outputs": [
    {
     "name": "stdout",
     "output_type": "stream",
     "text": [
      "[-2, -8, -1]\n"
     ]
    }
   ],
   "source": [
    "list5=[-2,-8,6,7,8,-1]\n",
    "b=list(filter(lambda x:x<0,list5))\n",
    "\n",
    "print(b)"
   ]
  },
  {
   "cell_type": "code",
   "execution_count": 6,
   "id": "11e17ed3",
   "metadata": {},
   "outputs": [
    {
     "name": "stdout",
     "output_type": "stream",
     "text": [
      "2\n"
     ]
    }
   ],
   "source": [
    "string1=input(\"Enter the string:\")\n",
    "string1=string1.split()\n",
    "count=0\n",
    "for x in string1:\n",
    "    if len(x)>=2 and x[0] == x[-1]:\n",
    "        count+=1\n",
    "    else:\n",
    "        continue\n",
    "print(count)\n",
    "\n"
   ]
  },
  {
   "cell_type": "code",
   "execution_count": 17,
   "id": "30412732",
   "metadata": {},
   "outputs": [
    {
     "name": "stdout",
     "output_type": "stream",
     "text": [
      "['bottles', 'laptops']\n"
     ]
    }
   ],
   "source": [
    "words=[\"pen\",\"pencil\",\"card\",\"bottles\",\"laptops\"]\n",
    "def find_longest_word(word_list):\n",
    "    max_length=max(len(word) for word in word_list)\n",
    "    longest_words=[word for word in word_list if len(word)== max_length]\n",
    "    return longest_words\n",
    "print(find_longest_word(words))\n"
   ]
  },
  {
   "cell_type": "markdown",
   "id": "5ae638e2",
   "metadata": {},
   "source": [
    "LISTS USECASES :"
   ]
  },
  {
   "cell_type": "code",
   "execution_count": null,
   "id": "bc18fe85",
   "metadata": {},
   "outputs": [
    {
     "name": "stdout",
     "output_type": "stream",
     "text": [
      "Collected responses: ['yes', 'no', 'yes', 'no ', 'yes', 'yes']\n",
      "Java responses ['Y', 'N', 'Y', 'N', 'Y', 'Y']\n"
     ]
    }
   ],
   "source": [
    "responses=[]\n",
    "responses2=[]\n",
    "for i in range(6):\n",
    "    answer=input(\"Do you like python - yes or no : (This can only take 6 responses)\")\n",
    "    responses.append(answer)\n",
    "print(\"Collected responses:\",responses)\n",
    "for i in range(6):\n",
    "    output=input(\"Enter Y or N if you like or hate java:\")\n",
    "    responses2.append(output)\n",
    "print(\"Java responses\",responses2)\n"
   ]
  },
  {
   "cell_type": "code",
   "execution_count": 35,
   "id": "939ba086",
   "metadata": {},
   "outputs": [
    {
     "name": "stdout",
     "output_type": "stream",
     "text": [
      "Added tasks : ['shop', 'sleep']\n",
      "after remove the tasks are : ['shop']\n",
      "['shop']\n"
     ]
    }
   ],
   "source": [
    "task_management=[]\n",
    "def add_tasks():\n",
    "    add_task=input(\"Add the tasks you want to perform:\").split()\n",
    "    task_management.extend(add_task)\n",
    "    print(\"Added tasks :\",task_management)\n",
    "\n",
    "def remove_tasks():\n",
    "    remove_task=input(\"Remove the task yo want to do from the added tasks:\")\n",
    "    task_management.remove(remove_task)\n",
    "    print(\"after remove the tasks are :\",task_management)\n",
    "\n",
    "\n",
    "def view_tasks():\n",
    "    print(task_management)\n",
    "\n",
    "add_tasks()\n",
    "remove_tasks()\n",
    "view_tasks()"
   ]
  },
  {
   "cell_type": "markdown",
   "id": "ec02fb92",
   "metadata": {},
   "source": [
    "QUESTION -03:"
   ]
  },
  {
   "cell_type": "code",
   "execution_count": 46,
   "id": "2f76da33",
   "metadata": {},
   "outputs": [
    {
     "name": "stdout",
     "output_type": "stream",
     "text": [
      "The list for the students marks are: ['1', '2', '3', '4', '5']\n",
      "Average of the stored grades is : 3.0\n"
     ]
    }
   ],
   "source": [
    "avg_grade_store=[]\n",
    "def enter_grade_store():\n",
    "    for i in range(5):\n",
    "        store_grades=input(\"Enter the marks of the students:\").split()\n",
    "        avg_grade_store.extend(store_grades)\n",
    "    print(\"The list for the students marks are:\",avg_grade_store)\n",
    "    store_grades=[int(x) for x in avg_grade_store]\n",
    "    average=sum(store_grades) / len(avg_grade_store)\n",
    "    print(\"Average of the stored grades is :\",average)\n",
    "enter_grade_store()\n",
    "\n",
    "\n"
   ]
  },
  {
   "cell_type": "markdown",
   "id": "bb51499c",
   "metadata": {},
   "source": [
    "QUESTION-06:"
   ]
  },
  {
   "cell_type": "markdown",
   "id": "7472a709",
   "metadata": {},
   "source": [
    "QUESTION - 06:"
   ]
  },
  {
   "cell_type": "code",
   "execution_count": 51,
   "id": "98489d87",
   "metadata": {},
   "outputs": [
    {
     "name": "stdout",
     "output_type": "stream",
     "text": [
      "The book inventory is as follows: ['titanic', 'duke', 'spirit', 'economics']\n",
      "The name of the book which is removed: duke\n",
      "The new book inventory is : ['titanic', 'spirit', 'economics']\n"
     ]
    }
   ],
   "source": [
    "book_inventory=[\"titanic\",\"duke\",\"spirit\",\"economics\"]\n",
    "print(\"The book inventory is as follows:\",book_inventory)\n",
    "book_library_new=[]\n",
    "def book_library():\n",
    "    title=input(\"Enter the name of the book you want to remove:\")\n",
    "    book_inventory.remove(title)\n",
    "    print(\"The name of the book which is removed:\",title)\n",
    "    print(\"The new book inventory is :\",book_inventory)\n",
    "book_library()\n",
    "\n"
   ]
  },
  {
   "cell_type": "markdown",
   "id": "4a16046c",
   "metadata": {},
   "source": [
    "QUESTION-07 (1) :"
   ]
  },
  {
   "cell_type": "code",
   "execution_count": 68,
   "id": "c8fcc4ca",
   "metadata": {},
   "outputs": [
    {
     "name": "stdout",
     "output_type": "stream",
     "text": [
      "Following is ths list of scores: [20, 40, 70, 80]\n",
      "40\n",
      "70\n",
      "The median of the provided even number of lists: 55.0\n"
     ]
    }
   ],
   "source": [
    "exam_scores=[]\n",
    "def marks():\n",
    "    marks_exam=list(map(int,input(\"enter the marks scored in the exam:\").split())) #This line is IMPORTANT\n",
    "    exam_scores.extend(marks_exam)\n",
    "    exam_scores.sort()\n",
    "    print(\"Following is ths list of scores:\",exam_scores)\n",
    "    if len(exam_scores) % 2 == 0:\n",
    "        mid=len(exam_scores) // 2\n",
    "        digit1=exam_scores[mid -1] \n",
    "        print(digit1)\n",
    "        digit2=exam_scores[mid]\n",
    "        print(digit2)\n",
    "        median_of_even= (digit1 + digit2) / 2\n",
    "        print(\"The median of the provided even number of lists:\",median_of_even)\n",
    "    else:\n",
    "        mid=len(exam_scores) // 2\n",
    "        digit3=exam_scores[mid]\n",
    "        print(\"The median of the provided odd number of lists:\",digit3)\n",
    "marks()\n",
    "\n"
   ]
  },
  {
   "cell_type": "markdown",
   "id": "4c426bec",
   "metadata": {},
   "source": [
    "QUESTION - 7: (2):"
   ]
  },
  {
   "cell_type": "code",
   "execution_count": 67,
   "id": "32c07467",
   "metadata": {},
   "outputs": [
    {
     "name": "stdout",
     "output_type": "stream",
     "text": [
      "{'What are you doing?', 'Where to go?', 'why were you late?', \"What's the plan\"}\n"
     ]
    }
   ],
   "source": [
    "list1=[\"What are you doing?\",\"why were you late?\",\"What's the plan\",\"Where to go?\"]\n",
    "def shuffler(list1):\n",
    "    list1=set(list1)\n",
    "    print(list1)\n",
    "shuffler(list1)"
   ]
  },
  {
   "cell_type": "markdown",
   "id": "18aa0023",
   "metadata": {},
   "source": [
    "QUESTION -10:"
   ]
  },
  {
   "cell_type": "code",
   "execution_count": 72,
   "id": "8fb7a40c",
   "metadata": {},
   "outputs": [
    {
     "name": "stdout",
     "output_type": "stream",
     "text": [
      "['book', 'pencils', 'pens', 'paper', 'sharpner']\n",
      "[20, 25, 22, 30, 19]\n",
      "No stock refill required.\n",
      "No stock refill required.\n",
      "Restocking required.\n",
      "Restocking required.\n",
      "Restocking required.\n"
     ]
    }
   ],
   "source": [
    "warehouse_inventory={\"book\":20 , \"pencils\":25, \"pens\":22 ,\"paper\":30,\"sharpner\":19}\n",
    "list1=list(warehouse_inventory)\n",
    "print(list1)\n",
    "thresh=list(warehouse_inventory.values())\n",
    "print(thresh)\n",
    "quantities=list(map(int,input(\"Enter the quantities:\").split()))\n",
    "for i,j in zip(thresh,quantities):\n",
    "    if j>i:\n",
    "        print(\"No stock refill required.\")\n",
    "    else:\n",
    "        print(\"Restocking required.\")"
   ]
  },
  {
   "cell_type": "markdown",
   "id": "7e445adb",
   "metadata": {},
   "source": [
    "QUESTION -11:"
   ]
  },
  {
   "cell_type": "code",
   "execution_count": 2,
   "id": "f82d682d",
   "metadata": {},
   "outputs": [
    {
     "name": "stdout",
     "output_type": "stream",
     "text": [
      "185\n"
     ]
    }
   ],
   "source": [
    "list_task=[\"Collection\",\"Cleaning\",\"Coding\",\"Output\",\"Presentation\"]\n",
    "list_durations=[20,50,70,30,15]\n",
    "def sum_durations():\n",
    "    for i in list_durations:\n",
    "        sum_dur=sum(list_durations)\n",
    "    print(sum_dur)\n",
    "sum_durations()\n"
   ]
  },
  {
   "cell_type": "markdown",
   "id": "b02a627f",
   "metadata": {},
   "source": [
    "QUESTION -12:"
   ]
  },
  {
   "cell_type": "code",
   "execution_count": 15,
   "id": "408ac257",
   "metadata": {},
   "outputs": [
    {
     "name": "stdout",
     "output_type": "stream",
     "text": [
      "The list of the products are : dict_keys(['shampoo', 'conditioner', 'soap', 'brush'])\n",
      "The quantities of orders are : dict_values([100, 200, 500, 50])\n",
      "The product with the maximum number of orders is 500\n"
     ]
    }
   ],
   "source": [
    "\n",
    "orders={\"shampoo\":100,\"conditioner\":200,\"soap\":500,\"brush\":50}\n",
    "product_name=orders.keys()\n",
    "print(\"The list of the products are :\",product_name)\n",
    "order_quantities=orders.values()\n",
    "list(order_quantities)\n",
    "print(\"The quantities of orders are :\",order_quantities)\n",
    "def product_platform():\n",
    "    maximum_order=max(order_quantities)\n",
    "    print(f\"The product with the maximum number of orders is {maximum_order}\")\n",
    "product_platform()\n"
   ]
  },
  {
   "cell_type": "markdown",
   "id": "4f06af65",
   "metadata": {},
   "source": [
    "QUESTION -14:"
   ]
  },
  {
   "cell_type": "code",
   "execution_count": 25,
   "id": "59f8613f",
   "metadata": {},
   "outputs": [
    {
     "name": "stdout",
     "output_type": "stream",
     "text": [
      "The length of the dna : XXXYY is: 5\n",
      "The length of the dna : XXXYYY is: 6\n",
      "The length of the dna : YYXXYYX is: 7\n",
      "The length of the dna : YXX is: 3\n",
      "The length of the dna : XXXXXYYYYXY is: 11\n",
      "The length of the dna : XYYX is: 4\n",
      "The DNA sequence with the maximum length is : 11\n"
     ]
    }
   ],
   "source": [
    "\n",
    "dna_sequences=[\"XXXYY\",\"XXXYYY\",\"YYXXYYX\",\"YXX\",\"XXXXXYYYYXY\",\"XYYX\"]\n",
    "def len_dna():\n",
    "    maximum_len=0\n",
    "    for i in dna_sequences:\n",
    "        dna_len=len(i)\n",
    "        print(\"The length of the dna :\",i, \"is:\",dna_len)\n",
    "        if dna_len > maximum_len:\n",
    "            maximum_len=dna_len\n",
    "    print(\"The DNA sequence with the maximum length is :\",maximum_len)\n",
    "len_dna()\n"
   ]
  },
  {
   "cell_type": "code",
   "execution_count": 35,
   "id": "4bad3919",
   "metadata": {},
   "outputs": [
    {
     "name": "stdout",
     "output_type": "stream",
     "text": [
      "['hours of work done by 1st is:', 120, 'hours of work done by 2nd is:', 140, 'hours of work done by 3rd is:', 190]\n",
      "He needs to work in shift1\n"
     ]
    }
   ],
   "source": [
    "employee_shifts=[]\n",
    "def shift_asper_hour():\n",
    "       employee_hours=int(input(\"Enter the number of hours worked by employee1:\"))\n",
    "       employee_hours1=int(input(\"Enter the number of hours worked by employee2:\"))\n",
    "       employee_hours3=int(input(\"Enter the number of hours worked by employee3:\"))\n",
    "       Final_employee_list=[\"hours of work done by 1st is:\",employee_hours,\"hours of work done by 2nd is:\",employee_hours1,\"hours of work done by 3rd is:\",employee_hours3]\n",
    "       print(Final_employee_list)\n",
    "       if employee_hours1 > 100 and employee_hours > 100 and employee_hours3>100:\n",
    "           print(\"He needs to work in shift1\")\n",
    "       elif employee_hours<100 and employee_hours1<100 and employee_hours3<100:\n",
    "           print(\"he needs to work in shift2\")\n",
    "shift_asper_hour()\n",
    "\n",
    "\n",
    "\n",
    "\n"
   ]
  },
  {
   "cell_type": "code",
   "execution_count": 61,
   "id": "72ee8641",
   "metadata": {},
   "outputs": [
    {
     "name": "stdout",
     "output_type": "stream",
     "text": [
      "{2: 1, 4: 4, 3: 1, 6: 1}\n",
      "dict_values([1, 4, 1, 1])\n",
      "4\n"
     ]
    }
   ],
   "source": [
    "def calculate_mode(responses):\n",
    "    \n",
    "    frequency={}\n",
    "    for item in responses:\n",
    "        if item in frequency:\n",
    "            frequency[item]+=1\n",
    "        else:\n",
    "            frequency[item]=1\n",
    "    return frequency\n",
    "\n",
    "responses=list(map(int,input(\"Enter the responses:\").split()))\n",
    "response_values=calculate_mode(responses).values()\n",
    "responses_maximum=max(response_values)\n",
    "print(calculate_mode(responses))\n",
    "print(response_values)\n",
    "print(responses_maximum)\n"
   ]
  }
 ],
 "metadata": {
  "kernelspec": {
   "display_name": "Python 3",
   "language": "python",
   "name": "python3"
  },
  "language_info": {
   "codemirror_mode": {
    "name": "ipython",
    "version": 3
   },
   "file_extension": ".py",
   "mimetype": "text/x-python",
   "name": "python",
   "nbconvert_exporter": "python",
   "pygments_lexer": "ipython3",
   "version": "3.12.1"
  }
 },
 "nbformat": 4,
 "nbformat_minor": 5
}
