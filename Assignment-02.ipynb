{
 "cells": [
  {
   "cell_type": "markdown",
   "metadata": {},
   "source": [
    "QUESTION 02:"
   ]
  },
  {
   "cell_type": "code",
   "execution_count": 1,
   "metadata": {},
   "outputs": [
    {
     "name": "stdout",
     "output_type": "stream",
     "text": [
      "Yes! The number is between 0 and 10\n"
     ]
    }
   ],
   "source": [
    "X=int(input(\"Enter the number:\"))\n",
    "if 0 < X < 10:\n",
    "    print(\"Yes! The number is between 0 and 10\")\n",
    "elif 20 < X < 30:\n",
    "    print(\"Yes!The number is between 20 and 30\")\n",
    "elif 40 < X < 50 :\n",
    "    print(\"Yes! The number is between 40 and 50\")\n",
    "elif 60< X < 70:\n",
    "    print(\"Yes! The number is between 60 and 70\")\n",
    "else:\n",
    "    print(\"Sorry!Invalid by the system.\")"
   ]
  },
  {
   "cell_type": "markdown",
   "metadata": {},
   "source": [
    "QUESTION 03:"
   ]
  },
  {
   "cell_type": "code",
   "execution_count": 28,
   "metadata": {},
   "outputs": [
    {
     "name": "stdout",
     "output_type": "stream",
     "text": [
      "Login successfull\n"
     ]
    }
   ],
   "source": [
    "username=str(input(\"Enter the username:\"))\n",
    "password=str(input(\"Enter the password:\"))\n",
    "if username == \"true\" and password == \"true\":\n",
    "    print(\"Login successfull\")\n",
    "else:\n",
    "    print(\"Login Failure\")"
   ]
  },
  {
   "cell_type": "markdown",
   "metadata": {},
   "source": [
    "QUESTION 04:"
   ]
  },
  {
   "cell_type": "code",
   "execution_count": 13,
   "metadata": {},
   "outputs": [
    {
     "name": "stdout",
     "output_type": "stream",
     "text": [
      "1505\n",
      "1540\n",
      "1575\n",
      "1610\n",
      "1645\n",
      "1680\n",
      "1715\n",
      "1750\n",
      "1785\n",
      "1820\n",
      "1855\n",
      "1890\n",
      "1925\n",
      "1960\n",
      "1995\n",
      "2030\n",
      "2065\n",
      "2100\n",
      "2135\n",
      "2170\n",
      "2205\n",
      "2240\n",
      "2275\n",
      "2310\n",
      "2345\n",
      "2380\n",
      "2415\n",
      "2450\n",
      "2485\n",
      "2520\n",
      "2555\n",
      "2590\n",
      "2625\n",
      "2660\n",
      "2695\n"
     ]
    }
   ],
   "source": [
    "for x in range (1500,2701):\n",
    "    if x % 7 == 0 and x % 5 == 0:\n",
    "        print(x)\n"
   ]
  },
  {
   "cell_type": "markdown",
   "metadata": {},
   "source": [
    "QUESTION 06:"
   ]
  },
  {
   "cell_type": "code",
   "execution_count": 26,
   "metadata": {},
   "outputs": [
    {
     "name": "stdout",
     "output_type": "stream",
     "text": [
      "The entered alphabet is a consonant.\n"
     ]
    }
   ],
   "source": [
    "char=str(input(\"Enter any on the alphabet:\"))\n",
    "if (char == \"a\" or char == \"e\" or char == \"i\" or char == \"o\" or char == \"u\"):\n",
    "    print(\"The entered alphabet is a vowel.\")\n",
    "else:\n",
    "    print(\"The entered alphabet is a consonant.\")"
   ]
  },
  {
   "cell_type": "markdown",
   "metadata": {},
   "source": [
    "QUESTION 07:"
   ]
  },
  {
   "cell_type": "code",
   "execution_count": 42,
   "metadata": {},
   "outputs": [
    {
     "name": "stdout",
     "output_type": "stream",
     "text": [
      "720\n"
     ]
    }
   ],
   "source": [
    "n=6\n",
    "fact=1\n",
    "for i in range(1,n+1):\n",
    "    fact *= i\n",
    "print(fact)\n",
    "    \n",
    "    "
   ]
  },
  {
   "cell_type": "markdown",
   "metadata": {},
   "source": [
    "Question 08:"
   ]
  },
  {
   "cell_type": "code",
   "execution_count": 45,
   "metadata": {},
   "outputs": [
    {
     "name": "stdout",
     "output_type": "stream",
     "text": [
      "12 X 1 = 12\n",
      "12 X 2 = 24\n",
      "12 X 3 = 36\n",
      "12 X 4 = 48\n",
      "12 X 5 = 60\n",
      "12 X 6 = 72\n",
      "12 X 7 = 84\n",
      "12 X 8 = 96\n",
      "12 X 9 = 108\n",
      "12 X 10 = 120\n"
     ]
    }
   ],
   "source": [
    "n=12\n",
    "for i in range(1,11):\n",
    "    print(n, \"X\" , i,\"=\",n*i)"
   ]
  },
  {
   "cell_type": "markdown",
   "metadata": {},
   "source": [
    "QUESTION 11:"
   ]
  },
  {
   "cell_type": "code",
   "execution_count": 47,
   "metadata": {},
   "outputs": [
    {
     "name": "stdout",
     "output_type": "stream",
     "text": [
      "It is a perfect square.\n"
     ]
    }
   ],
   "source": [
    "n=int(input(\"Enter the number:\"))\n",
    "sum=0\n",
    "for i in range (1,n):\n",
    "    if (n % i == 0):\n",
    "        sum=sum+i\n",
    "if (sum==n):\n",
    "    print(\"It is a perfect square.\")\n",
    "else:\n",
    "    print(\"No it is not a perfect square.\") "
   ]
  },
  {
   "cell_type": "markdown",
   "metadata": {},
   "source": [
    "QUESTION 05:"
   ]
  },
  {
   "cell_type": "code",
   "execution_count": 53,
   "metadata": {},
   "outputs": [
    {
     "name": "stdout",
     "output_type": "stream",
     "text": [
      "729\n",
      "The greatest digit is: 9\n"
     ]
    }
   ],
   "source": [
    "number=(input(\"Enter a three digit number:\"))\n",
    "if len(number) == 3:\n",
    "    digit1=int(number[0])\n",
    "    digit2=int(number[1])\n",
    "    digit3=int(number[2])\n",
    "    print(number)\n",
    "    greatest=max(digit1,digit2,digit3)\n",
    "    print(\"The greatest digit is:\",greatest)\n",
    "else:\n",
    "    print(\"This is invalid\")\n"
   ]
  },
  {
   "cell_type": "markdown",
   "metadata": {},
   "source": [
    "CHECK WHETHER 3 DIGIT NUMBER IS PALINDROME OR NOT :"
   ]
  },
  {
   "cell_type": "code",
   "execution_count": null,
   "metadata": {},
   "outputs": [],
   "source": [
    "num=input(\"Enter a three digit number:\")\n",
    "if len(num)==3 :\n",
    "\n"
   ]
  },
  {
   "cell_type": "markdown",
   "metadata": {},
   "source": [
    "PROGRAM TO CALCULATE SUM OF DIGITS OF 3 DIGIT NUMBER:"
   ]
  },
  {
   "cell_type": "code",
   "execution_count": 64,
   "metadata": {},
   "outputs": [
    {
     "name": "stdout",
     "output_type": "stream",
     "text": [
      "ERROR\n"
     ]
    }
   ],
   "source": [
    "num=(input(\"Enter any number\"))\n",
    "if len(num)==3:\n",
    "    digit4=int(num[0])\n",
    "    digit5=int(num[1])\n",
    "    digit6=int(num[2])\n",
    "    print(num)\n",
    "    sum=(digit4+ digit5 + digit6)\n",
    "    print(sum)\n",
    "else:\n",
    "    print(\"ERROR\")"
   ]
  },
  {
   "cell_type": "markdown",
   "metadata": {},
   "source": [
    "CHECK A NUMBER IS ARMSTRONG OR NOT:"
   ]
  },
  {
   "cell_type": "code",
   "execution_count": 82,
   "metadata": {},
   "outputs": [
    {
     "name": "stdout",
     "output_type": "stream",
     "text": [
      "153\n",
      "yes\n"
     ]
    }
   ],
   "source": [
    "arm=input(\"Enter a three digit num\")\n",
    "if len(arm)==3:\n",
    "    digit7=int(arm[0])\n",
    "    digit8=int(arm[1])\n",
    "    digit9=int(arm[2])\n",
    "    d=(digit7*digit7*digit7)\n",
    "    e=(digit8*digit8*digit8)\n",
    "    f=(digit9*digit9*digit9)\n",
    "    sum=(d+e+f)\n",
    "    print(arm)\n",
    "else:\n",
    "    print(\"error\")\n",
    "if sum==int(arm):\n",
    "    print(\"yes\")\n",
    "else:\n",
    "    print(\"no\")"
   ]
  },
  {
   "cell_type": "markdown",
   "metadata": {},
   "source": [
    "USECASE- 01"
   ]
  },
  {
   "cell_type": "markdown",
   "metadata": {},
   "source": [
    "SCHOOL SCORE CARD:"
   ]
  },
  {
   "cell_type": "code",
   "execution_count": 91,
   "metadata": {},
   "outputs": [
    {
     "name": "stdout",
     "output_type": "stream",
     "text": [
      "A\n"
     ]
    }
   ],
   "source": [
    "score=int(input(\"Enter the marks of students:\"))\n",
    "if score < 25:\n",
    "    print(\"Fail\")\n",
    "elif 25 <= score < 45:\n",
    "    print(\"E\")\n",
    "elif 45 <= score < 50:\n",
    "    print(\"D\")\n",
    "elif 50 <= score < 60:\n",
    "    print(\"C\")\n",
    "elif 60 <= score < 80:\n",
    "    print(\"B\")\n",
    "elif 80 <= score <= 100:\n",
    "    print(\"A\")\n",
    "else:\n",
    "    print(\"Invalid score\")"
   ]
  },
  {
   "cell_type": "markdown",
   "metadata": {},
   "source": [
    "USECASE-02"
   ]
  },
  {
   "cell_type": "markdown",
   "metadata": {},
   "source": [
    "YOUNGEST AND OLDEST PERSON BETWEEN 3 AGES:"
   ]
  },
  {
   "cell_type": "code",
   "execution_count": 99,
   "metadata": {},
   "outputs": [
    {
     "name": "stdout",
     "output_type": "stream",
     "text": [
      "Person-3 is the oldest\n",
      "This person is youngest: 50\n",
      "This person is oldest: 70\n"
     ]
    }
   ],
   "source": [
    "age1=int(input(\"enter the age of person-1:\"))\n",
    "age2=int(input(\"enter the age of person-2:\"))\n",
    "age3=int(input(\"enter the age of person-3:\"))\n",
    "if age1 > age2 and age1 > age3:\n",
    "    print(\"Person-1 is the oldest\")\n",
    "elif age2 > age1 and age2 > age3:\n",
    "    print(\"Person-2 is the oldest\")\n",
    "elif age3 > age1 and age3 > age2:\n",
    "    print(\"Person-3 is the oldest\")\n",
    "else:\n",
    "    print(\"Invalid\")\n",
    "txt=min(age1,age2,age3)\n",
    "print(\"This person is youngest:\",txt)\n",
    "txt1=max(age1,age2,age3)\n",
    "print(\"This person is oldest:\",txt1)"
   ]
  },
  {
   "cell_type": "markdown",
   "metadata": {},
   "source": [
    "USECASE-03"
   ]
  },
  {
   "cell_type": "markdown",
   "metadata": {},
   "source": [
    "R AND K WEIGHTS:"
   ]
  },
  {
   "cell_type": "code",
   "execution_count": 101,
   "metadata": {},
   "outputs": [
    {
     "name": "stdout",
     "output_type": "stream",
     "text": [
      "Ram and karan have the same weight.\n"
     ]
    }
   ],
   "source": [
    "R=int(input(\"Enter the weight of R:\"))\n",
    "K=int(input(\"Enter the weight of K:\"))\n",
    "if R > K :\n",
    "    print(\"Ram is heavier than karan.\")\n",
    "elif R < K:\n",
    "    print(\"Karan is heavier than Ram.\")\n",
    "elif R == K:\n",
    "    print(\"Ram and karan have the same weight.\")\n",
    "else:\n",
    "    print(\"Invalid -- ERROR\")"
   ]
  },
  {
   "cell_type": "markdown",
   "metadata": {},
   "source": [
    "USECASE-04"
   ]
  },
  {
   "cell_type": "markdown",
   "metadata": {},
   "source": [
    "ELECTRICITY BILL :"
   ]
  },
  {
   "cell_type": "code",
   "execution_count": 105,
   "metadata": {},
   "outputs": [
    {
     "name": "stdout",
     "output_type": "stream",
     "text": [
      "The charge for your electricity equivalent to 350 units is: 850\n"
     ]
    }
   ],
   "source": [
    "bill=int(input(\"Enter the number of units used:\"))\n",
    "if bill == 100:\n",
    "    print(\"No Charge for your electricity bill.\")\n",
    "elif 100 <= bill < 200:\n",
    "    price=bill*5\n",
    "    print(\"The charge for your electricity above 100 units bill is :\",price)\n",
    "elif 200 <= bill < 350:\n",
    "    price_B=bill*10\n",
    "    print(\"The charge for your electriciy above 200 units is :\",price_B)\n",
    "elif bill == 350:\n",
    "    price_C= bill + 500\n",
    "    print(\"The charge for your electricity equivalent to 350 units is:\",price_C)\n",
    "else:\n",
    "    print(\"Invalid\")"
   ]
  },
  {
   "cell_type": "markdown",
   "metadata": {},
   "source": [
    "USECASE-05"
   ]
  },
  {
   "cell_type": "markdown",
   "metadata": {},
   "source": [
    "BONUS AS PER SALARY:"
   ]
  },
  {
   "cell_type": "code",
   "execution_count": 110,
   "metadata": {},
   "outputs": [
    {
     "name": "stdout",
     "output_type": "stream",
     "text": [
      "The salary of the person working more than 5 years is : 2100.0\n"
     ]
    }
   ],
   "source": [
    "salary=int(input(\"Enter the salary:\"))\n",
    "year=int(input(\"Enter year of service:\"))\n",
    "if year >= 5 :\n",
    "    bonus=5/100 * salary + salary\n",
    "    print(\"The salary of the person working more than 5 years is :\",bonus)\n",
    "else:\n",
    "    print(\"The salary is the same for person:\",salary)"
   ]
  },
  {
   "cell_type": "markdown",
   "metadata": {},
   "source": [
    "USECASE-06"
   ]
  },
  {
   "cell_type": "markdown",
   "metadata": {},
   "source": [
    "SHOP WITH DISCOUNT :"
   ]
  },
  {
   "cell_type": "code",
   "execution_count": 113,
   "metadata": {},
   "outputs": [
    {
     "name": "stdout",
     "output_type": "stream",
     "text": [
      "The cost of the product with quantity greater than or equal to 1000 is: 900.0\n"
     ]
    }
   ],
   "source": [
    "quantity=int(input(\"Enter the quantity of the product:\"))\n",
    "if quantity == 1:\n",
    "    print(\"The cost of the product is 100.\")\n",
    "elif quantity < 1000:\n",
    "    price_D= 100 * quantity\n",
    "    print(\"The cost of the product with quantity less than 1000 is:\",price_D)\n",
    "elif quantity >= 1000:\n",
    "    price_E= quantity - 10/100 * quantity\n",
    "    print(\"The cost of the product with quantity greater than or equal to 1000 is:\",price_E)\n",
    "else:\n",
    "    print(\"Invalid-- ERROR\")"
   ]
  },
  {
   "cell_type": "markdown",
   "metadata": {},
   "source": [
    "USECASE -07"
   ]
  },
  {
   "cell_type": "code",
   "execution_count": 114,
   "metadata": {},
   "outputs": [
    {
     "name": "stdout",
     "output_type": "stream",
     "text": [
      "True-HE OR SHE IS HAVING A DRIVING LICENSE.\n",
      "Yes!He or she is eligible for driving.\n"
     ]
    }
   ],
   "source": [
    "drive_age=int(input(\"Enter the age of the person in years:\"))\n",
    "if drive_age >= 18:\n",
    "    print(\"True-HE OR SHE IS HAVING A DRIVING LICENSE.\")\n",
    "else:\n",
    "    print(\"False-HE OR SHE IS NOT HAVING A DRIVING LICENSE.\")\n",
    "if drive_age >= 18:\n",
    "    print(\"Yes!He or she is eligible for driving.\")\n",
    "else:\n",
    "    print(\"Sorry! He or she is not eligible for driving.\")"
   ]
  },
  {
   "cell_type": "markdown",
   "metadata": {},
   "source": [
    "USECASE -08"
   ]
  },
  {
   "cell_type": "code",
   "execution_count": 117,
   "metadata": {},
   "outputs": [
    {
     "name": "stdout",
     "output_type": "stream",
     "text": [
      "false\n",
      "No\n"
     ]
    }
   ],
   "source": [
    "ticket=int(input(\"Enter the age of the person:\"))\n",
    "if 5 <= ticket <= 21:\n",
    "    print(True)\n",
    "else:\n",
    "    print(\"false\")\n",
    "if 5 <= ticket <= 21 and True:\n",
    "    print(\"Yes! Price is 200 Rs.and  He is a student and is in a valid age limit\")\n",
    "else:\n",
    "    print(\"No\")"
   ]
  }
 ],
 "metadata": {
  "kernelspec": {
   "display_name": "Python 3.12.1 64-bit",
   "language": "python",
   "name": "python3"
  },
  "language_info": {
   "codemirror_mode": {
    "name": "ipython",
    "version": 3
   },
   "file_extension": ".py",
   "mimetype": "text/x-python",
   "name": "python",
   "nbconvert_exporter": "python",
   "pygments_lexer": "ipython3",
   "version": "3.12.1"
  },
  "orig_nbformat": 4,
  "vscode": {
   "interpreter": {
    "hash": "8ce2ce319f49e0b662d1569cecf3548defb0c46dfe8a5ed0095864e2194a15b4"
   }
  }
 },
 "nbformat": 4,
 "nbformat_minor": 2
}
