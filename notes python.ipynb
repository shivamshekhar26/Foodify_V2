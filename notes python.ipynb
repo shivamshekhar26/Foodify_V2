{
 "cells": [
  {
   "cell_type": "markdown",
   "metadata": {},
   "source": [
    "PYTHON PACKAGES AND MODULES:"
   ]
  },
  {
   "cell_type": "markdown",
   "metadata": {},
   "source": [
    "CONSTANTS IN PYTHON:"
   ]
  },
  {
   "cell_type": "code",
   "execution_count": null,
   "metadata": {},
   "outputs": [],
   "source": [
    "#If a variable has a fixed value that cannot be changed then you can use the\n",
    "#const keyword , It is defined in uppper case only . \n",
    "const(\n",
    "    \n",
    ")"
   ]
  },
  {
   "cell_type": "markdown",
   "metadata": {},
   "source": [
    "GLOBAL VARIABLES "
   ]
  },
  {
   "cell_type": "markdown",
   "metadata": {},
   "source": [
    "Variables that are crated outside a function are exactly global variables .\n"
   ]
  },
  {
   "cell_type": "code",
   "execution_count": null,
   "metadata": {},
   "outputs": [
    {
     "name": "stdout",
     "output_type": "stream",
     "text": [
      "Python is Awesome\n"
     ]
    }
   ],
   "source": [
    "x=\"Awesome\"\n",
    "def myfunct():\n",
    "    print(\"Python is \"+x)\n",
    "myfunct()\n"
   ]
  },
  {
   "cell_type": "code",
   "execution_count": null,
   "metadata": {},
   "outputs": [
    {
     "name": "stdout",
     "output_type": "stream",
     "text": [
      "Python is fantastic\n",
      "Python is awesome\n"
     ]
    }
   ],
   "source": [
    "x = \"awesome\"\n",
    "\n",
    "def myfunc():\n",
    "  x = \"fantastic\"\n",
    "  print(\"Python is \" + x)\n",
    "\n",
    "myfunc()\n",
    "\n",
    "print(\"Python is \" + x)"
   ]
  },
  {
   "cell_type": "markdown",
   "metadata": {},
   "source": [
    "If you use the global keyword then that variable will be used in a global scope ."
   ]
  },
  {
   "cell_type": "markdown",
   "metadata": {},
   "source": [
    "Avoid using names in python:\n",
    "That start with capital letters or number or special characters .\n",
    "Or have space in the names ."
   ]
  },
  {
   "cell_type": "code",
   "execution_count": null,
   "metadata": {},
   "outputs": [
    {
     "name": "stdout",
     "output_type": "stream",
     "text": [
      "SHIVAM\n",
      "yash technologies\n"
     ]
    }
   ],
   "source": [
    "x=\"shivam\"\n",
    "y=x.upper()\n",
    "print(y)\n",
    "z=\"YASH TECHNOLOGIES\"\n",
    "txt=z.lower()\n",
    "print(txt)"
   ]
  },
  {
   "cell_type": "markdown",
   "metadata": {},
   "source": [
    "PYTHON NAMING CONVENTIONS:\n",
    "1.modules \n",
    "2.variables \n",
    "3.classes \n",
    "4.exceptions \n",
    "modules: when naming a module use lowercase letters and underscores.\n",
    "variables: global variables should be in uppercase and underscores.\n",
    "class: First name of each word should be capital and there should not be any underscores .\n",
    "exceptions : Should end with error.\n",
    "PEP 8:\n",
    "It promotes an eye pleasing and readable coding style.\n",
    "Use four steps of indentation .\n",
    "Should noyt exceed more than 79 characters .\n",
    "Naming conventions and manymore things ....."
   ]
  },
  {
   "cell_type": "markdown",
   "metadata": {},
   "source": [
    "For date time : Always write from datetime import datetime --> FOR PRESENT DAY \n",
    "Then from datetime import timedelta \n",
    "- for yesterday in datetime()-->(PRESENTDAY NAME ONLY) \n",
    "+ for tomorrow."
   ]
  },
  {
   "cell_type": "markdown",
   "metadata": {},
   "source": [
    "If we need the odd or even indexing placed items from a list then we have to select the list and use slicing technique. Basically,  Slicing works as \n",
    "[start:stop:step] so for even indexes just add 2 at the step then it will start print th elements alternatively at 2nd position . \n",
    "For odd [1::2] means it will start from 1 index and then will step further."
   ]
  },
  {
   "cell_type": "markdown",
   "metadata": {},
   "source": [
    "PYTHON CLASS/OBJECTS :\n",
    "A class is a \"Blueprint\" of what is needed to be done .\n",
    "like : \n",
    "class Myclass:\n",
    "        x=5\n",
    "Now we can use this class name Myclass to create objects!\n",
    "P1=Myclass()\n",
    "print(P1.x)\n"
   ]
  },
  {
   "cell_type": "code",
   "execution_count": null,
   "metadata": {},
   "outputs": [],
   "source": [
    "class myclass():\n",
    "    x=5\n",
    "p1=myclass()\n",
    "print(p1.x)"
   ]
  },
  {
   "cell_type": "markdown",
   "metadata": {},
   "source": [
    "To understand it practically we need to first look at the built in function that is __init__ function. This is always executed when a class is being initiated .\n",
    "\"\"so basically to asign some value to the class we use the __init__ function.\"\"\n"
   ]
  },
  {
   "cell_type": "code",
   "execution_count": null,
   "metadata": {},
   "outputs": [
    {
     "name": "stdout",
     "output_type": "stream",
     "text": [
      "john\n",
      "45\n"
     ]
    }
   ],
   "source": [
    "class person:\n",
    "    def __init__ (self,name,age):\n",
    "        self.name=name\n",
    "        self.age=age\n",
    "p1=person(\"john\",45)\n",
    "print(p1.name)\n",
    "print(p1.age)"
   ]
  },
  {
   "cell_type": "markdown",
   "metadata": {},
   "source": [
    "The __str()__ function is being used when the class object is represented as string .\n"
   ]
  },
  {
   "cell_type": "code",
   "execution_count": null,
   "metadata": {},
   "outputs": [
    {
     "name": "stdout",
     "output_type": "stream",
     "text": [
      "prince(32)\n"
     ]
    }
   ],
   "source": [
    "class person:\n",
    "    def __init__(self,name,age):\n",
    "        self.name=name\n",
    "        self.age=age\n",
    "    def __str__(self):\n",
    "        return f\"{self.name}({self.age})\"\n",
    "p2=person(\"prince\",32)\n",
    "print(p2)"
   ]
  },
  {
   "cell_type": "markdown",
   "metadata": {},
   "source": [
    "Objects can also contain methods.\n"
   ]
  },
  {
   "cell_type": "code",
   "execution_count": null,
   "metadata": {},
   "outputs": [
    {
     "name": "stdout",
     "output_type": "stream",
     "text": [
      "Hello my name is John\n"
     ]
    }
   ],
   "source": [
    "class Person:\n",
    "  def __init__(self, name, age):\n",
    "    self.name = name\n",
    "    self.age = age\n",
    "\n",
    "  def myfunc(self):\n",
    "    print(\"Hello my name is \" + self.name)\n",
    "\n",
    "p1 = Person(\"John\", 36)\n",
    "p1.myfunc()"
   ]
  },
  {
   "cell_type": "markdown",
   "metadata": {},
   "source": [
    "Self parameter is a current reference to the current instance of class and is used to access variables that are present in the class. \n",
    "Self can also be named as a different keyword . However, It should be used at the first place but..."
   ]
  },
  {
   "cell_type": "code",
   "execution_count": null,
   "metadata": {},
   "outputs": [
    {
     "name": "stdout",
     "output_type": "stream",
     "text": [
      "Hello my name is John\n"
     ]
    }
   ],
   "source": [
    "class Person:\n",
    "  def __init__(mysillyobject, name, age):\n",
    "    mysillyobject.name = name\n",
    "    mysillyobject.age = age\n",
    "\n",
    "  def myfunc(abc):\n",
    "    print(\"Hello my name is \" + abc.name)\n",
    "\n",
    "p1 = Person(\"John\", 36)\n",
    "p1.myfunc()"
   ]
  },
  {
   "cell_type": "markdown",
   "metadata": {},
   "source": [
    "modified : if set the age as 40 then to modify it just use :\n",
    "p1.age=30\n",
    "to delete:\n",
    "del p1.age "
   ]
  },
  {
   "cell_type": "markdown",
   "metadata": {},
   "source": [
    "varibale.isdigit()-->Tells us that we need a positive number only!"
   ]
  },
  {
   "cell_type": "markdown",
   "metadata": {},
   "source": [
    "PYHTON STRINGS :\n"
   ]
  },
  {
   "cell_type": "markdown",
   "metadata": {},
   "source": [
    "String is either quoted with single or double quotation . It is displayed with the help of print() function.\n",
    "We assign a variable as a string with the help of = and a person can print a multiline string by assigning a variable to it and using 3 double quotes.\n",
    "Strings are arrays of bytes that are representing the unicode value of any character for example \n",
    "a=\"Hello\"\n",
    "print(a[1])\n",
    "so now it will print e.\n",
    "Since strings are arrays only so they can be looped with a FOR loop.\n",
    "so:\n"
   ]
  },
  {
   "cell_type": "code",
   "execution_count": null,
   "metadata": {},
   "outputs": [
    {
     "name": "stdout",
     "output_type": "stream",
     "text": [
      "b\n",
      "a\n",
      "n\n",
      "a\n",
      "n\n",
      "a\n"
     ]
    }
   ],
   "source": [
    "for x in \"banana\":\n",
    "    print(x)\n",
    "#It will print the arrays. "
   ]
  },
  {
   "cell_type": "markdown",
   "metadata": {},
   "source": [
    "we can check the length of the string using len().\n",
    "to check a certain phrase or character then we use \"IN \" keyword!and \"not in \" can also be used as per the situation .\n"
   ]
  },
  {
   "cell_type": "markdown",
   "metadata": {},
   "source": [
    "SLICING STRINGS :\n",
    "We can return a range of characters using slicing by value and colon."
   ]
  },
  {
   "cell_type": "code",
   "execution_count": null,
   "metadata": {},
   "outputs": [
    {
     "name": "stdout",
     "output_type": "stream",
     "text": [
      "hello\n",
      "llo world\n",
      "o world\n"
     ]
    }
   ],
   "source": [
    "#To start from the slicing from start\n",
    "b=\"hello world\"\n",
    "print(b[:5])\n",
    "#By leaving out the end index it will print up till end .\n",
    "print(b[2:])\n",
    "#use negative index to start slicing from the end.\n",
    "print(b[-7:])"
   ]
  },
  {
   "cell_type": "markdown",
   "metadata": {},
   "source": [
    "MODIFY STRINGS :\n",
    "The .upper() and .lower() modifies the string into capital or lower case respectively.\n",
    ".strip()--> Removes the white spaces from the string .\n",
    ".replace()--> It replaces any character in the string .\n",
    ".split()-->It splits the string into sub-string.\n",
    "\n",
    "\n"
   ]
  },
  {
   "cell_type": "code",
   "execution_count": null,
   "metadata": {},
   "outputs": [
    {
     "name": "stdout",
     "output_type": "stream",
     "text": [
      "HELLO SHIVAM\n",
      "hello shivam\n",
      "Jello Shivam\n",
      "Hello Shivam\n"
     ]
    }
   ],
   "source": [
    "a=\"Hello Shivam\"\n",
    "print(a.upper())\n",
    "print(a.lower())\n",
    "print(a.replace('H','J'))\n",
    "print(a.strip())"
   ]
  },
  {
   "cell_type": "markdown",
   "metadata": {},
   "source": [
    "CONCATENATE STRINGS :\n",
    "To concatenate two strings or to combine them one can use + operator."
   ]
  },
  {
   "cell_type": "markdown",
   "metadata": {},
   "source": [
    "FORMAT STRINGS:\n",
    "We cannot concatenate a string and a number so for that we use fprmat string so basically we need to put a f\" and write the string and to add any number to it just use the varibale written in the curly brackets .\n",
    "To add a decimal value to a number just add : and .2f to add 2 points after the number. One can also perform a math operation."
   ]
  },
  {
   "cell_type": "markdown",
   "metadata": {},
   "source": [
    "STRING METHODS :\n",
    "capitalize()--> converts string to upper case.\n",
    "casefold()--> converts string into lower case \n",
    "swapcase()-->lower to upper and upper to lower.\n",
    "title()--> Converts first character of each word in a string to upper.\n",
    "center()--> returns center value of the string .\n",
    "isalpha()--> Returns true if all characters are alphabets."
   ]
  },
  {
   "cell_type": "markdown",
   "metadata": {},
   "source": [
    "PYTHON LISTS :"
   ]
  },
  {
   "cell_type": "markdown",
   "metadata": {},
   "source": [
    "Lists in python are created using square brackets .\n",
    "Lists are ordered --> That means that items have a defined order and that order will not change .If a new item is added to a list then it will be printed at the end of the list.\n",
    "lists is changeable --> Anything can be removed added and modified .\n",
    "lists allow duplicate values . \n",
    "To remove duplicate values from a list we need to first convert it into a dictionary then it can be changed accordingly .\n",
    "len()--> Use length function to find the length of a string .\n",
    "Lists can contain different data types that is string , boolean or numbers .\n",
    "To find the data type of list one needs to use --> type() function.\n",
    "IMPORTANT - ONE CAN ALSO USE THE list() constructor to make a list NOTE--> Use double round brackets ."
   ]
  },
  {
   "cell_type": "code",
   "execution_count": null,
   "metadata": {},
   "outputs": [
    {
     "name": "stdout",
     "output_type": "stream",
     "text": [
      "['apple', 'banana', 'guava']\n"
     ]
    }
   ],
   "source": [
    "#Another way to create a list:\n",
    "thislist=list((\"apple\",\"banana\",\"guava\"))\n",
    "print(thislist) "
   ]
  },
  {
   "cell_type": "markdown",
   "metadata": {},
   "source": [
    "ACCESS LISTS:\n",
    "We can access the list items using the indexing .\n",
    "Negative indexing where -1 refers to last item whereas -2 refers to second last item.\n",
    "Remember that the first item has an index 0.\n",
    "Again you can use \"in\" to check certain item is their in th elist or not ."
   ]
  },
  {
   "cell_type": "code",
   "execution_count": null,
   "metadata": {},
   "outputs": [
    {
     "name": "stdout",
     "output_type": "stream",
     "text": [
      "Yes!\n"
     ]
    }
   ],
   "source": [
    "thislist=[\"A\",\"B\",\"C\"]\n",
    "if \"B\" in thislist:\n",
    "    print(\"Yes!\")"
   ]
  },
  {
   "cell_type": "markdown",
   "metadata": {},
   "source": [
    "CHANGE ITEMS IN LIST:\n",
    "We can change items in a list like.\n",
    "we can also use a range to add or change items .\n",
    "The insert()method will insert an item at a specific index value.\n"
   ]
  },
  {
   "cell_type": "code",
   "execution_count": null,
   "metadata": {},
   "outputs": [
    {
     "name": "stdout",
     "output_type": "stream",
     "text": [
      "['orange', 'watermelon', 'guava']\n",
      "['orange', 'watermelon', 'apple', 'guava']\n"
     ]
    }
   ],
   "source": [
    "thislist=[\"orange\",\"banana\",\"guava\"]\n",
    "thislist[1]=\"watermelon\"\n",
    "print(thislist)\n",
    "thislist[1:2]=\"watermelon\",\"apple\"\n",
    "print(thislist)"
   ]
  },
  {
   "cell_type": "markdown",
   "metadata": {},
   "source": [
    "ADD ITEMS TO A LIST:\n",
    "So for this we use append() where the item is added at the end of the list .\n",
    "to insert a a value at a specified index then one can even use that to do.\n",
    "Extend() : It is used to extend a new list further from the previous list."
   ]
  },
  {
   "cell_type": "code",
   "execution_count": null,
   "metadata": {},
   "outputs": [
    {
     "name": "stdout",
     "output_type": "stream",
     "text": [
      "['bottle', 'mug', 'watch', 'mobile']\n",
      "['bottle', 'bag', 'mug', 'watch', 'mobile']\n",
      "['bottle', 'bag', 'mug', 'watch', 'mobile', 'green', 'red', 'blue']\n"
     ]
    }
   ],
   "source": [
    "thislist2=[\"bottle\",\"mug\",\"watch\"]\n",
    "thislist2.append(\"mobile\")\n",
    "print(thislist2)\n",
    "thislist2.insert(1,\"bag\")\n",
    "print(thislist2)\n",
    "tropical=[\"green\",\"red\",\"blue\"]\n",
    "thislist2.extend(tropical)\n",
    "print(thislist2)"
   ]
  },
  {
   "cell_type": "markdown",
   "metadata": {},
   "source": [
    "REMOVE LIST ITEMS :\n",
    "We can remove an item from a list using remove() method.\n",
    "If there are duplicate values in a list then remove method removes the first value in the list which is presented.\n",
    "If we just write .pop() then it will remove the last item in the list.\n",
    ".clear()--> here the list is there but there are no values in it ."
   ]
  },
  {
   "cell_type": "code",
   "execution_count": null,
   "metadata": {},
   "outputs": [
    {
     "name": "stdout",
     "output_type": "stream",
     "text": [
      "['bottle', 'mug', 'watch', 'mobile', 'red', 'blue']\n",
      "['bottle', 'mug', 'watch', 'mobile', 'red']\n",
      "[]\n"
     ]
    }
   ],
   "source": [
    "thislist2.remove(\"green\")\n",
    "print(thislist2)\n",
    "thislist2.pop()\n",
    "print(thislist2)\n",
    "thislist2.clear()\n",
    "print(thislist2)"
   ]
  },
  {
   "cell_type": "markdown",
   "metadata": {},
   "source": [
    "LOOP THROUGH A LIST :\n",
    "we can list items using for loops even .\n",
    "so it will print items one by one.\n",
    "We can also loop through the items using index numbers .using range() and len().\n",
    "WE CAN LOOP ITEMS USING WHILE LOOPS ASWELL:-\n",
    "use len() function to determine the length of the list then start with 0 and loop your index number to start our way .\n",
    "remember to increase the 1 after each iteration.\n",
    "\n",
    "LOOPING USING LIST COMPREHENSION :\n",
    "It offers shortest syntax for looping through the list.\n",
    "a short hand for loop that will print all items in th elist."
   ]
  },
  {
   "cell_type": "code",
   "execution_count": null,
   "metadata": {},
   "outputs": [
    {
     "name": "stdout",
     "output_type": "stream",
     "text": [
      "apple\n",
      "orange\n",
      "guava\n",
      "orange\n",
      "orange\n",
      "orange\n",
      "apple\n",
      "orange\n",
      "guava\n"
     ]
    },
    {
     "data": {
      "text/plain": [
       "<generator object <genexpr> at 0x000002036365C790>"
      ]
     },
     "execution_count": 24,
     "metadata": {},
     "output_type": "execute_result"
    }
   ],
   "source": [
    "thislist3=[\"apple\",\"orange\",\"guava\"]\n",
    "for x in thislist3:\n",
    "    print(x)\n",
    "for i in range(len(thislist3)):\n",
    "    print(thislist3[1])\n",
    "t=0\n",
    "while t<len(thislist3):\n",
    "    print(thislist3[t])\n",
    "    t=t+1\n",
    "(print(x) for x in thislist3)"
   ]
  },
  {
   "cell_type": "markdown",
   "metadata": {},
   "source": [
    "LIST COMPREHENSION :\n",
    "It offers a short syntax when you want a create a new list based on existing list values ."
   ]
  },
  {
   "cell_type": "code",
   "execution_count": null,
   "metadata": {},
   "outputs": [
    {
     "name": "stdout",
     "output_type": "stream",
     "text": [
      "['apple', 'mango']\n",
      "['kiwi', 'cherry', 'mango']\n",
      "['kiwi', 'apple', 'cherry', 'mango']\n"
     ]
    }
   ],
   "source": [
    "#If we want to find the name of the fruits with letter a from the list then :\n",
    "fruits=[\"kiwi\",\"apple\",\"cherry\",\"mango\"]\n",
    "newlist=[x for x in fruits if \"a\" in x]\n",
    "print(newlist)\n",
    "newlist2=[x for x in fruits if x != \"apple\"]\n",
    "print(newlist2)\n",
    "#With not using if\n",
    "newlist3=[x for x in fruits]\n",
    "print(newlist3)"
   ]
  },
  {
   "cell_type": "markdown",
   "metadata": {},
   "source": [
    "LIST SORT():\n",
    "List objects have a sort() that will sort th elist alpha numerically .\n",
    ".sort(reverse=true)--> It will print the list in descending order.\n"
   ]
  },
  {
   "cell_type": "code",
   "execution_count": null,
   "metadata": {},
   "outputs": [
    {
     "name": "stdout",
     "output_type": "stream",
     "text": [
      "['banana', 'kiwi', 'mango', 'orange', 'pineapple']\n"
     ]
    }
   ],
   "source": [
    "thislist = [\"orange\", \"mango\", \"kiwi\", \"pineapple\", \"banana\"]\n",
    "thislist.sort()\n",
    "print(thislist)"
   ]
  },
  {
   "cell_type": "markdown",
   "metadata": {},
   "source": [
    "COPY LIST :\n",
    "One can copy a list using copy() and list() and [:] method.\n",
    "JOIN LIST:\n",
    "One can join a list using + operator or using extend() method .\n",
    "count()--> counts the number of elements in a list ."
   ]
  },
  {
   "cell_type": "markdown",
   "metadata": {},
   "source": [
    "map()--> It is transforming the elements of the list.\n",
    "map() applies a function to each item in a list and gives back a new list .\n",
    "syntax--> map(function,iterable)\n",
    "example:\n",
    "names=[\"alice\",\"bob\",\"charlie\"]\n",
    "upper_names=list(map(str.upper,names))\n",
    "print(upper_names)"
   ]
  },
  {
   "cell_type": "markdown",
   "metadata": {},
   "source": [
    "filter()--> It selects the items based on a condition .\n",
    "It picks only those items from a list that match a condition.\n",
    "nums=[5,6,7,8,9,10]\n",
    "greater_than_10=list(filter(lambda x: x>10,nums))\n",
    "print(greater_than_10)"
   ]
  },
  {
   "cell_type": "markdown",
   "metadata": {},
   "source": [
    "reduce[]--> reduce() repeatedly applies a function to the list and reduces it to a single value .\n",
    "We need to import reduce by :\n",
    "from funtools import reduce \n",
    "so basically it reduces all items to a single result .\n",
    "example:\n",
    "from funtools import reduce \n",
    "nums=[1,2,3,4]\n",
    "product=reduce(lambda x,y: x*y,nums)\n",
    "print(product)"
   ]
  },
  {
   "cell_type": "markdown",
   "metadata": {},
   "source": [
    "A lambda function in python is a small anonymous nameless function that you can write in one line .\n",
    "It is used when we want to perform a quick function for a short task like map ,filter or reduce."
   ]
  },
  {
   "cell_type": "markdown",
   "metadata": {},
   "source": [
    "PYTHON TUPLES:"
   ]
  },
  {
   "cell_type": "markdown",
   "metadata": {},
   "source": [
    "Tuples are used to store multiple items in a single variable .\n",
    "It is ordered and unchangeable  and allow duplicate values.\n",
    "It is written in round brackets .\n",
    "UNCHANGEABLE --> WE CANNOT ADD , REMOVE ANY ITEMS WHEN A TUPLE IS CREATED.\n",
    "\n",
    "To create a tuple with only one item then we need to add a comma after that item else python will not understand that this is a tuple.\n",
    "\n",
    "It can contain different data types like list only that is boolean , string , number.\n",
    "type() is used to find the type of data.\n",
    "We can also use tuple()method to create a tuple where one can use double round brackets .\n"
   ]
  },
  {
   "cell_type": "code",
   "execution_count": null,
   "metadata": {},
   "outputs": [
    {
     "name": "stdout",
     "output_type": "stream",
     "text": [
      "3\n",
      "('apple',)\n"
     ]
    }
   ],
   "source": [
    "thistuple=(\"apple\",\"banana\",\"cherry\")\n",
    "print(len(thistuple))\n",
    "thistuple1=(\"apple\",)\n",
    "print(thistuple1)"
   ]
  },
  {
   "cell_type": "markdown",
   "metadata": {},
   "source": [
    "ACCESS TUPLES:\n",
    "again same as lists we can access the items using indexing and range .\n",
    "Negative indexing."
   ]
  },
  {
   "cell_type": "code",
   "execution_count": null,
   "metadata": {},
   "outputs": [
    {
     "name": "stdout",
     "output_type": "stream",
     "text": [
      "('apple', 'banana', 'cherry', 'orange')\n"
     ]
    }
   ],
   "source": [
    "thistuple = (\"apple\", \"banana\", \"cherry\", \"orange\", \"kiwi\", \"melon\", \"mango\")\n",
    "print(thistuple[:4])"
   ]
  },
  {
   "cell_type": "markdown",
   "metadata": {},
   "source": [
    "UPDATE TUPLES:\n",
    "One needs to change the tuple into lists then change the list and then again convert it back into the tuple.\n",
    "ADD ITEM IN TUPLE:\n",
    "again same thing convert to list and same..."
   ]
  },
  {
   "cell_type": "code",
   "execution_count": null,
   "metadata": {},
   "outputs": [
    {
     "name": "stdout",
     "output_type": "stream",
     "text": [
      "('pineaple', 'kiwi', 'cherry')\n"
     ]
    }
   ],
   "source": [
    "x=(\"pineaple\",\"strawberry\",\"cherry\")\n",
    "y=list(x)\n",
    "y[1]=\"kiwi\"\n",
    "x=tuple(y)\n",
    "print(x)"
   ]
  },
  {
   "cell_type": "code",
   "execution_count": null,
   "metadata": {},
   "outputs": [
    {
     "name": "stdout",
     "output_type": "stream",
     "text": [
      "('bag', 'watch', 'bottle', 'laptop')\n"
     ]
    }
   ],
   "source": [
    "thistuple2=(\"bag\",\"watch\",\"bottle\")\n",
    "y=list(thistuple2)\n",
    "y.append(\"laptop\")\n",
    "thistuple2=tuple(y)\n",
    "print(thistuple2)\n"
   ]
  },
  {
   "cell_type": "markdown",
   "metadata": {},
   "source": [
    "ONE CAN ADD TUPLE TO A TUPLE :"
   ]
  },
  {
   "cell_type": "code",
   "execution_count": null,
   "metadata": {},
   "outputs": [
    {
     "name": "stdout",
     "output_type": "stream",
     "text": [
      "('apple', 'banana', 'cherry', 'orange', 'kiwi', 'melon', 'mango', 'orange', 'orange', 'orange')\n"
     ]
    }
   ],
   "source": [
    "Thistuple = (\"apple\", \"banana\", \"cherry\")\n",
    "y = (\"orange\",) #INCLUDE A COMMA AFTER THE ITEM SO IT WILL ADD TUPLE TO A TUPLE.\n",
    "thistuple += y\n",
    "\n",
    "print(thistuple)"
   ]
  },
  {
   "cell_type": "markdown",
   "metadata": {},
   "source": [
    "TO REMOVE AN ITEM CONVERT THE TUPLE INTO LIST USE .remove() and you can also use del keyword to delete the whole tuple."
   ]
  },
  {
   "cell_type": "markdown",
   "metadata": {},
   "source": [
    "UNPACKING A TUPLE:\n",
    "When we create a tuple we normally assign to values to it . This is called packing a tuple.\n",
    "thistuple=(\"fiuefhe\",\"ddjsdkj\",\"yiwdjwd\")\n",
    "USING ASTERICK * :\n",
    "Where if the number of variables is less than the number of values so you can add * to the variable."
   ]
  },
  {
   "cell_type": "code",
   "execution_count": null,
   "metadata": {},
   "outputs": [
    {
     "name": "stdout",
     "output_type": "stream",
     "text": [
      "apple\n",
      "cherrry\n"
     ]
    }
   ],
   "source": [
    "#UNPACKING A TUPLE:\n",
    "fruitts=(\"apple\",\"banan\",\"cherrry\")\n",
    "(green,yellow,red)=fruitts\n",
    "print(green)\n",
    "print(red)"
   ]
  },
  {
   "cell_type": "code",
   "execution_count": null,
   "metadata": {},
   "outputs": [
    {
     "name": "stdout",
     "output_type": "stream",
     "text": [
      "apple\n",
      "banana\n",
      "['cherry', 'strawberry', 'raspberry']\n"
     ]
    }
   ],
   "source": [
    "fruits = (\"apple\", \"banana\", \"cherry\", \"strawberry\", \"raspberry\")\n",
    "\n",
    "(green, yellow, *red) = fruits\n",
    "\n",
    "print(green)\n",
    "print(yellow)\n",
    "print(red)"
   ]
  },
  {
   "cell_type": "code",
   "execution_count": null,
   "metadata": {},
   "outputs": [
    {
     "name": "stdout",
     "output_type": "stream",
     "text": [
      "apple\n",
      "['mango', 'papaya', 'pineapple']\n",
      "cherry\n"
     ]
    }
   ],
   "source": [
    "fruits = (\"apple\", \"mango\", \"papaya\", \"pineapple\", \"cherry\")\n",
    "\n",
    "(green, *tropic, red) = fruits\n",
    "\n",
    "print(green)\n",
    "print(tropic)\n",
    "print(red)"
   ]
  },
  {
   "cell_type": "markdown",
   "metadata": {},
   "source": [
    "LOOPING A TUPLE:\n",
    "We can use the for or while loop for looping a tuple."
   ]
  },
  {
   "cell_type": "code",
   "execution_count": null,
   "metadata": {},
   "outputs": [
    {
     "name": "stdout",
     "output_type": "stream",
     "text": [
      "apple\n",
      "banana\n",
      "cherry\n"
     ]
    }
   ],
   "source": [
    "thistuple3=(\"apple\",\"banana\",\"cherry\")\n",
    "for x in thistuple3:\n",
    "    print(x)"
   ]
  },
  {
   "cell_type": "markdown",
   "metadata": {},
   "source": [
    "JOIN TUPLES:\n",
    "We can join tuples using + operator .If you ant to multiply the content of the tuple then you can multiply it for number of times."
   ]
  },
  {
   "cell_type": "markdown",
   "metadata": {},
   "source": [
    "TUPLE METHODS : Count() and index()"
   ]
  },
  {
   "cell_type": "code",
   "execution_count": null,
   "metadata": {},
   "outputs": [
    {
     "name": "stdout",
     "output_type": "stream",
     "text": [
      "abyh\n",
      "lydhsud\n"
     ]
    }
   ],
   "source": [
    "#to find min() and max() in tuple:\n",
    "tuple4=(\"afudfhd\",\"byieji\",\"lydhsud\",\"dhij\",\"abyh\")\n",
    "print(min(tuple4))\n",
    "print(max(tuple4))"
   ]
  },
  {
   "cell_type": "markdown",
   "metadata": {},
   "source": [
    "all()--> It returns true if all the values are true . \n",
    "any()-->only 1 value is true then to it will be show true."
   ]
  },
  {
   "cell_type": "markdown",
   "metadata": {},
   "source": [
    "PYHTON SETS :"
   ]
  },
  {
   "cell_type": "markdown",
   "metadata": {},
   "source": [
    "A set is a collection of items which are unordered , unchangeable * and does not allow duplicates .\n",
    "Sets are written in curly brackets .\n",
    "Sets are not defined in an order and cannot be referred to as indexing and all..\n",
    "Sets are unchangeable*\n",
    "NOTE --> * THE SET ITEMS CANNOT BE CHANGED BUT YOU CAN REMOVE AND ADD ITEMS . \n",
    "AS A WHOLE SET IS MUTABLE THAT IS ITEMS CAN BE REMOVED OR ADDED BUT ITS ELEMENTS ARE IMMUTABLE THAT IS CANNOT BE CHANGED.\n",
    "Sets does not allow duplicates .\n",
    "VALUES TRUE AND 1 IS TREATED AS SAME IN SETS AND WILL NOT ALLOW BOTH WRITTEN AT THE SAME TIME .SIMILARLY FOR FALSE AND ZERO!\n",
    "type()-> It is again used for getting the type of data type of the set.\n",
    "set() constructor is used .\n",
    "len() function is used the find the length of the set.\n"
   ]
  },
  {
   "cell_type": "code",
   "execution_count": null,
   "metadata": {},
   "outputs": [
    {
     "name": "stdout",
     "output_type": "stream",
     "text": [
      "{True, 'banana', 'apple'}\n"
     ]
    }
   ],
   "source": [
    "thisset={\"apple\",\"banana\",True,1}\n",
    "print(thisset)"
   ]
  },
  {
   "cell_type": "markdown",
   "metadata": {},
   "source": [
    "Access items in set:\n",
    "We dont have indexing here so items here can be accessed with the use of for loop or using in keyword .\n",
    "NOW ONCE A SET IS CREATED YOU CANNOT CHANGE THE ITEMS IN IT , YOU CAN JUST ADD NEW ITEMS NOW ....."
   ]
  },
  {
   "cell_type": "code",
   "execution_count": null,
   "metadata": {},
   "outputs": [
    {
     "name": "stdout",
     "output_type": "stream",
     "text": [
      "True\n",
      "banana\n",
      "apple\n",
      "True\n"
     ]
    }
   ],
   "source": [
    "thisset={\"apple\",\"banana\",True,1}\n",
    "for x in thisset:\n",
    "    print(x)\n",
    "print(\"banana\"in thisset)"
   ]
  },
  {
   "cell_type": "markdown",
   "metadata": {},
   "source": [
    "ADD ITEMS IN SET:\n",
    "We can add items in a set by add() method .\n",
    "To add items from one set to another set we use update() method."
   ]
  },
  {
   "cell_type": "code",
   "execution_count": null,
   "metadata": {},
   "outputs": [
    {
     "name": "stdout",
     "output_type": "stream",
     "text": [
      "{True, 'orange', 'banana', 'apple'}\n",
      "{True, 'orange', 'noteoook', 'banana', 'watch', 'apple'}\n"
     ]
    }
   ],
   "source": [
    "thisset={\"apple\",\"banana\",True,1}\n",
    "thisset.add(\"orange\")\n",
    "print(thisset)\n",
    "tropics={\"noteoook\",\"watch\"}\n",
    "thisset.update(tropics)\n",
    "print(thisset)"
   ]
  },
  {
   "cell_type": "markdown",
   "metadata": {},
   "source": [
    "REMOVE ITEM IN SET:\n",
    "We can use discard() or remove ()\n",
    "However, IF AN ELEMENT DOES NOT EXIST IN A SET THEN remove() will raise an ERROR. while , IF DISCARD() IS USED THEN IT WILL NOT RAISE AN ERROR.\n",
    "Pop()--> Here,In lists and tuple when we use pop the last element is being removed but in sets there is no indexing so it can randomly pop any element in the set.\n",
    "del() and clear() is also used to delete or clear any set."
   ]
  },
  {
   "cell_type": "markdown",
   "metadata": {},
   "source": [
    "JOIN SETS : SET OPERATIONS :\n",
    "Join the sets using union() method. OR | can also be used instead of union.\n",
    "Now this union() can also be used to jin set and tuples w=however remeber that | is used just for joining set to set.\n",
    "UNION () AND UPDATE() BOTH WILL EXCLUDE DUPLICATES.\n",
    "INTERSECTION()--> This will take out the common values out of the sets. and we can also use & to use intersection while this can only be used for sets to sets."
   ]
  },
  {
   "cell_type": "code",
   "execution_count": null,
   "metadata": {},
   "outputs": [
    {
     "name": "stdout",
     "output_type": "stream",
     "text": [
      "{'charger', 'watch', 'pen', 'pencil', 'mobile'}\n"
     ]
    }
   ],
   "source": [
    "set1={\"pen\",\"pencil\",\"charger\"}\n",
    "set2={\"watch\",\"mobile\"}\n",
    "set3=set1|set2\n",
    "print(set3)"
   ]
  },
  {
   "cell_type": "code",
   "execution_count": null,
   "metadata": {},
   "outputs": [
    {
     "name": "stdout",
     "output_type": "stream",
     "text": [
      "{'apple'}\n"
     ]
    }
   ],
   "source": [
    "#intersection_update():--> THIS WILL CHANGE THE ORIGINAL SET INSTEAD OF CREATING A NEW SET.\n",
    "set4={\"apple\",\"cherry\",\"guava\"}\n",
    "set5={\"google\",\"yash\",\"facebook\",\"apple\"}\n",
    "set4.intersection_update(set5)\n",
    "print(set4)"
   ]
  },
  {
   "cell_type": "code",
   "execution_count": null,
   "metadata": {},
   "outputs": [
    {
     "name": "stdout",
     "output_type": "stream",
     "text": [
      "{'guava', 'cherry'}\n"
     ]
    }
   ],
   "source": [
    "#THE DIFFERENCE() SET WILL RETURN A NEW SET WHICH WILL PRINT THE ELEMENTS IN THE FIRST SET\n",
    "# AND IS NOT PRESENT IN THE OTHER SET\n",
    "set4={\"apple\",\"cherry\",\"guava\"}\n",
    "set5={\"google\",\"yash\",\"facebook\",\"apple\"}\n",
    "set6=set4.difference(set5)\n",
    "print(set6)"
   ]
  },
  {
   "cell_type": "markdown",
   "metadata": {},
   "source": [
    "Now symmetric_difference() will keep those elements that are not present in both the sets.\n",
    "SUBSET: All elements of one set are in other for example CS students are a subset of all the students .\n",
    "SUPERSET : a set that contains all elements of another.\n",
    "FROZEN SET: It is an immutable version of a set where we cannot add , remove or change elements \n",
    "Hashable: Can be used as a key in dictionaries or stored inside other sets.\n",
    "created using frozenset() function.\n",
    "*** REMEMBER SET IS NOT HASHABLE AND CANNOT BE A DICTIONARY KEY WHEREAS A FROZEN SET CAN BE HASHABLE AND CAN BE A DICTIONARY KEY.HSHABLE ARE IMMUTABLE LIKE INT FLOAT STR.***\n",
    "HASHABLE OBJECTS ARE UNIQUE AND HAS A PERMANENT IDENTITY SO THEY CANNOT BE CHANGED\n",
    "WHY FROZEN SETS:\n",
    "To map fixed set of features .\n",
    "to protect data from being changed accidentally.\n"
   ]
  },
  {
   "cell_type": "markdown",
   "metadata": {},
   "source": [
    "DISJOINT SET :\n",
    "SETS WITH NO COMMON ELEMENTS ."
   ]
  },
  {
   "cell_type": "markdown",
   "metadata": {},
   "source": [
    "PYTHON DICTIONARIES:"
   ]
  },
  {
   "cell_type": "markdown",
   "metadata": {},
   "source": [
    "They are ordered , changeable and does not allow duplicates. Duplicate values will overwrite existing values.\n",
    "The vlaues in the dictionary can be of any data type that is list , bool etc.\n",
    "We can also use dict() constructor ."
   ]
  },
  {
   "cell_type": "code",
   "execution_count": null,
   "metadata": {},
   "outputs": [
    {
     "name": "stdout",
     "output_type": "stream",
     "text": [
      "Ford\n",
      "3\n",
      "{'name': 'shivam', 'age': 27}\n",
      "dict_values(['shivam', 27])\n",
      "dict_values(['shivam', 27, 'shekhar'])\n"
     ]
    }
   ],
   "source": [
    "thisdict={\n",
    "    \"Brand\" : \"Ford\",\n",
    "    \"Car\":\"Mustang\",\n",
    "    \"year\": 1912\n",
    "}\n",
    "print(thisdict[\"Brand\"])\n",
    "print(len(thisdict))\n",
    "thisdicti=dict(name=\"shivam\",age=27)\n",
    "print(thisdicti)\n",
    "x=thisdicti.values()\n",
    "print(x)\n",
    "thisdicti[\"surname\"]=\"shekhar\"\n",
    "print(x)\n",
    "\n"
   ]
  },
  {
   "cell_type": "markdown",
   "metadata": {},
   "source": [
    "We can use .get() to get the value of any \n",
    ".keys() will return all the keys used in the dictionary .\n",
    ".values() will return the values .\n",
    ".update() method will update the value .\n",
    ".pop() will remove the item.\n",
    ".popitem() will remove the last inserted item.\n",
    ".copy()Will copy the dictionary.\n",
    ".get() to retrieve a value to key with a default value if a key does not exist .\n",
    "\n"
   ]
  },
  {
   "cell_type": "markdown",
   "metadata": {},
   "source": [
    "NESTED DICTIONARY :\n",
    "Many dictionaries can be added into a dictionary,"
   ]
  },
  {
   "cell_type": "code",
   "execution_count": null,
   "metadata": {},
   "outputs": [],
   "source": [
    "child1 = {\n",
    "  \"name\" : \"Emil\",\n",
    "  \"year\" : 2004\n",
    "}\n",
    "child2 = {\n",
    "  \"name\" : \"Tobias\",\n",
    "  \"year\" : 2007\n",
    "}\n",
    "child3 = {\n",
    "  \"name\" : \"Linus\",\n",
    "  \"year\" : 2011\n",
    "}\n",
    "\n",
    "myfamily = {\n",
    "  \"child1\" : child1,\n",
    "  \"child2\" : child2,\n",
    "  \"child3\" : child3\n",
    "}\n"
   ]
  },
  {
   "cell_type": "markdown",
   "metadata": {},
   "source": [
    "We can join two dictionaries using two methods :\n",
    "1. using update()\n",
    "2. using | operator"
   ]
  },
  {
   "cell_type": "code",
   "execution_count": null,
   "metadata": {},
   "outputs": [
    {
     "name": "stdout",
     "output_type": "stream",
     "text": [
      "{'a': 1, 'b': 2, 'c': 3, 'd': 4}\n",
      "{'a': 1, 'b': 2, 'c': 3, 'd': 4}\n"
     ]
    }
   ],
   "source": [
    "dict1={'a':1,'b':2}\n",
    "dict2={'c':3,'d':4}\n",
    "dict1.update(dict2)\n",
    "print(dict1)\n",
    "#using | operator:\n",
    "merged=dict1|dict2\n",
    "print(merged)"
   ]
  },
  {
   "cell_type": "markdown",
   "metadata": {},
   "source": [
    "DICTIONARY COMPREHENSION :\n",
    "It is a concise way to create dictionaries.\n",
    "{key:value for item in iterable} --> syntax\n"
   ]
  },
  {
   "cell_type": "code",
   "execution_count": null,
   "metadata": {},
   "outputs": [
    {
     "name": "stdout",
     "output_type": "stream",
     "text": [
      "{1: 1, 2: 2, 3: 3, 4: 4}\n"
     ]
    }
   ],
   "source": [
    "#USE .values()to access the items :\n",
    "import math \n",
    "from math import sqrt\n",
    "squares={x:int(sqrt(x**2)) for x in merged.values()}\n",
    "print(squares)"
   ]
  },
  {
   "cell_type": "markdown",
   "metadata": {},
   "source": [
    "If we want a specific pair of elements from a dictionary then convert it into list then by indexing you will get the specific pair easily ."
   ]
  },
  {
   "cell_type": "code",
   "execution_count": null,
   "metadata": {},
   "outputs": [
    {
     "name": "stdout",
     "output_type": "stream",
     "text": [
      "bob\n"
     ]
    }
   ],
   "source": [
    "#max() and min():\n",
    "marks={'shivam':80,'bob':90}\n",
    "topper=max(marks,key=marks.get)\n",
    "print(topper)"
   ]
  },
  {
   "cell_type": "code",
   "execution_count": null,
   "metadata": {},
   "outputs": [],
   "source": [
    "#all() and any():\n",
    "#all()--> Returns true if all values are true.\n",
    "#any()-->Atleast true if on eof the values is true ."
   ]
  },
  {
   "cell_type": "markdown",
   "metadata": {},
   "source": [
    "When to use dictionaries :\n",
    "1. When you want to map keys to values like names to phone numbers .\n",
    "2. you need a structured data ."
   ]
  },
  {
   "cell_type": "markdown",
   "metadata": {},
   "source": [
    "PYHTON COLLECTIONS MODULE:\n",
    "Collections are the containers that are used for storing the data.\n",
    "Counter:\n",
    "In this type of collection the data will be stored as dictionary keys and the counts will be stored as values."
   ]
  },
  {
   "cell_type": "code",
   "execution_count": null,
   "metadata": {},
   "outputs": [
    {
     "name": "stdout",
     "output_type": "stream",
     "text": [
      "Counter({'t': 3, 'o': 2, 'i': 2, 'u': 1, 'r': 1, 'a': 1, 'l': 1, 's': 1, 'p': 1, 'n': 1})\n"
     ]
    }
   ],
   "source": [
    "from collections import Counter\n",
    "a=\"tutorialspoint\"\n",
    "result=Counter(a)\n",
    "print(result)"
   ]
  },
  {
   "cell_type": "code",
   "execution_count": null,
   "metadata": {},
   "outputs": [
    {
     "name": "stdout",
     "output_type": "stream",
     "text": [
      "dict_values([2, 3, 1])\n"
     ]
    }
   ],
   "source": [
    "#value():\n",
    "#It will give the counts associated with all the values.\n",
    "from collections import Counter\n",
    "a=[\"apple\",\"mango\",\"cherry\",\"apple\",\"mango\",\"mango\"]\n",
    "result=Counter(a)\n",
    "print(result.values())"
   ]
  },
  {
   "cell_type": "code",
   "execution_count": null,
   "metadata": {},
   "outputs": [
    {
     "name": "stdout",
     "output_type": "stream",
     "text": [
      "[('mango', 3)]\n",
      "[('mango', 3), ('apple', 2)]\n"
     ]
    }
   ],
   "source": [
    "#most_common() Function:\n",
    "#Gives dictionary of items with maximum count that is which are most common.\n",
    "#So how many values are common for that we need to specify in the paranthesis like 2 that 2 most common in the list .\n",
    "from collections import Counter\n",
    "a=[\"apple\",\"mango\",\"cherry\",\"apple\",\"mango\",\"mango\"]\n",
    "result=Counter(a)\n",
    "print(result.most_common(1))\n",
    "print(result.most_common(2))"
   ]
  },
  {
   "cell_type": "code",
   "execution_count": null,
   "metadata": {},
   "outputs": [
    {
     "name": "stdout",
     "output_type": "stream",
     "text": [
      "Hyderabad\n",
      "21\n",
      "Hyderabad\n",
      "21\n"
     ]
    }
   ],
   "source": [
    "#namedtuple() Function:\n",
    "#named tuple will allow us to create tuples with name fields.\n",
    "#Using the indices to access the items of a tuple can be difficult and confusing. To prevent that, we can make use of namedtuple().\n",
    "from collections import namedtuple\n",
    "person=namedtuple(\"person\",[\"name\",\"place\",\"sex\",\"age\"])\n",
    "id=person(\"kavya\",\"Hyderabad\",\"F\",\"21\")\n",
    "print(id[1])\n",
    "print(id[3])\n",
    "print(id.place)\n",
    "print(id.age)"
   ]
  },
  {
   "cell_type": "markdown",
   "metadata": {},
   "source": [
    "OrderedDict:\n",
    "Before python 3 dictionary was not ordered so for that reason when we wanted the dictionary to be ordered we \n",
    "used ordereddict()\n"
   ]
  },
  {
   "cell_type": "code",
   "execution_count": null,
   "metadata": {},
   "outputs": [
    {
     "name": "stdout",
     "output_type": "stream",
     "text": [
      "defaultdict(<class 'int'>, {'Sachin': 90, 'Dhoni': 80, 'Virat': 95})\n",
      "80\n",
      "0\n"
     ]
    }
   ],
   "source": [
    "#defaultdict:\n",
    "#It will never give a KeyError.Where the defaultdict always assign a value if the key does not exist.\n",
    "#It is used for handling missing keys .\n",
    "#So if a key is not there in the dictionary then it will show 0 as the output.\n",
    "from collections import defaultdict\n",
    "d=defaultdict(int)\n",
    "d['Sachin']=90\n",
    "d['Dhoni']=80\n",
    "d['Virat']=95\n",
    "print(d)\n",
    "print(d['Dhoni'])\n",
    "print(d['Rohit'])"
   ]
  },
  {
   "cell_type": "markdown",
   "metadata": {},
   "source": [
    "PYTHON FUNCTIONS :"
   ]
  },
  {
   "cell_type": "markdown",
   "metadata": {},
   "source": [
    "A function is a block of code that runs when it is called.\n",
    "We can pass function as data which is called parameters .\n",
    "A function can return a data as a result. It is defined using a def keyword."
   ]
  },
  {
   "cell_type": "code",
   "execution_count": null,
   "metadata": {},
   "outputs": [],
   "source": [
    "def my_function():\n",
    "    print(\"Hello shivam\")"
   ]
  },
  {
   "cell_type": "markdown",
   "metadata": {},
   "source": [
    "Information can be passed into function using arguments .\n",
    "Arguments are specified in the parantheses after the function name .\n",
    "We can add as many arguments as much you want , You just need to seperate them with comma."
   ]
  },
  {
   "cell_type": "markdown",
   "metadata": {},
   "source": [
    "A parameter is basically the variable listed inside the parantheses in the function definition .\n",
    "an is argument is the value of that function when it is being called .\n",
    "If a function is called and for example if 2 arguments are given then function expects to return 2 values not more or not less.\n",
    "REMEMBER :\n",
    "If function does not know how many arguments are passed then we can apply a * beforr the name of parameter defined in the parantheses of the function.\n",
    "We can also send arguments with keys and its value.\n",
    "If we call the function without any argument then it returns the defaut value of the function when it was being defined ."
   ]
  },
  {
   "cell_type": "markdown",
   "metadata": {},
   "source": [
    "To let a function return a value . We need to use the return statement.\n",
    "Use pass keyword to avoid any error if you have not given any argument.\n",
    "KEYWORD -ONLY\n",
    "If we want to specify that a function can ONLY HAVE A KEYWORD ARGUMENT then in that case see this example:"
   ]
  },
  {
   "cell_type": "code",
   "execution_count": 1,
   "metadata": {},
   "outputs": [
    {
     "name": "stdout",
     "output_type": "stream",
     "text": [
      "3\n"
     ]
    }
   ],
   "source": [
    "def my_function(*, x):\n",
    "  print(x)\n",
    "\n",
    "my_function(x = 3)"
   ]
  },
  {
   "cell_type": "markdown",
   "metadata": {},
   "source": [
    "POSITIONAL ONLY :\n",
    "So without * we can use positional arguments to define an argument in a function .\n",
    "We can combine these two argument types in the same function ."
   ]
  },
  {
   "cell_type": "markdown",
   "metadata": {},
   "source": [
    "DOCSTRINGS:\n",
    "They are used to document what a function does .\n",
    "Like giving a comment that what a function is doing .\n",
    "SCOPE OF VARIABLES: Where the variables is accessible .\n",
    "LIFETIME OF VARIABLES: How long the variable exists in memory."
   ]
  },
  {
   "cell_type": "code",
   "execution_count": 3,
   "metadata": {},
   "outputs": [
    {
     "name": "stdout",
     "output_type": "stream",
     "text": [
      "10\n"
     ]
    }
   ],
   "source": [
    "#LOCAL VARIABLE IN FUNCTION :\n",
    "def my_function2():\n",
    "    x=10\n",
    "    print(x)\n",
    "my_function2()\n"
   ]
  },
  {
   "cell_type": "code",
   "execution_count": 4,
   "metadata": {},
   "outputs": [
    {
     "name": "stdout",
     "output_type": "stream",
     "text": [
      "5\n"
     ]
    }
   ],
   "source": [
    "#GLOBAL VARIABLES IN FUNCTION:\n",
    "x=5\n",
    "def show():\n",
    "    print(x)\n",
    "show()"
   ]
  },
  {
   "cell_type": "markdown",
   "metadata": {},
   "source": [
    "NONLOCAL VARIABLE:\n",
    "IT IS NOT LOCAL TO THE INNER FUNCTION BUT ALSO NOT GLOBAL.\n",
    "REMEMBER :\n",
    "IF IN OUTER WE GIVE X= 10 AND IN INNER WE HAVE TO GIVE THE VALUE OF X AS 20 THEN THIS INNER FUNCTION CAN CHANGE THE VALUE OF OUTER FUNCTION IF WE WRITE THE KEYWORD AS NONLOCAL IN INNER FUCNTION."
   ]
  },
  {
   "cell_type": "markdown",
   "metadata": {},
   "source": [
    "PYTHON CLOSURES :\n",
    "Outer function will have one varibale .\n",
    "Inner function will have another variable.\n",
    "The function should be nested and the outer function will always return the inner function . "
   ]
  },
  {
   "cell_type": "code",
   "execution_count": 5,
   "metadata": {},
   "outputs": [
    {
     "name": "stdout",
     "output_type": "stream",
     "text": [
      "8\n"
     ]
    }
   ],
   "source": [
    "def outer(x):\n",
    "    def inner(y):\n",
    "        return x+y\n",
    "    return inner \n",
    "\n",
    "add5=outer(5)\n",
    "print(add5(3))"
   ]
  },
  {
   "cell_type": "markdown",
   "metadata": {},
   "source": [
    "STREAMLIT "
   ]
  },
  {
   "cell_type": "markdown",
   "metadata": {},
   "source": [
    "The python streamlit is basically developed for data science and machine learning engineers who want to quickly develop web apps without prior knowledge of web developement ."
   ]
  },
  {
   "cell_type": "markdown",
   "metadata": {},
   "source": [
    "The streamlit is a free and open source library of the python which is basically used my machine learning and data science engineers so that they cannot spend weeks of time to learn about web developement so using streamlit they can share and make web applications easily .\n",
    "IT CAN CREATE A STUNNING WEB APPLICATION WITH A FEW LINES OF CODE ONLY ."
   ]
  },
  {
   "cell_type": "markdown",
   "metadata": {},
   "source": [
    "It does not require any prior knowledge of front end like html js or css."
   ]
  }
 ],
 "metadata": {
  "kernelspec": {
   "display_name": "Python 3",
   "language": "python",
   "name": "python3"
  },
  "language_info": {
   "codemirror_mode": {
    "name": "ipython",
    "version": 3
   },
   "file_extension": ".py",
   "mimetype": "text/x-python",
   "name": "python",
   "nbconvert_exporter": "python",
   "pygments_lexer": "ipython3",
   "version": "3.12.1"
  },
  "orig_nbformat": 4
 },
 "nbformat": 4,
 "nbformat_minor": 2
}
