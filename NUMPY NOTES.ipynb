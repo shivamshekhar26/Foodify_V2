{
 "cells": [
  {
   "cell_type": "markdown",
   "id": "72bd5e72",
   "metadata": {},
   "source": [
    "BASIC NUMPY IN PYTHON:"
   ]
  },
  {
   "cell_type": "code",
   "execution_count": 1,
   "id": "29cd8d25",
   "metadata": {},
   "outputs": [
    {
     "name": "stdout",
     "output_type": "stream",
     "text": [
      "<class 'numpy.ndarray'>\n"
     ]
    }
   ],
   "source": [
    "import numpy as np\n",
    "arr=np.array([0,1,2,3,4,5])\n",
    "print(type(arr))"
   ]
  },
  {
   "cell_type": "markdown",
   "id": "99c3cf2f",
   "metadata": {},
   "source": [
    "NUMPY 1D ARRAY :"
   ]
  },
  {
   "cell_type": "code",
   "execution_count": 3,
   "id": "0a075b5f",
   "metadata": {},
   "outputs": [
    {
     "name": "stdout",
     "output_type": "stream",
     "text": [
      "[7 8 9]\n",
      "1\n",
      "(3,)\n"
     ]
    }
   ],
   "source": [
    "import numpy as np\n",
    "a=np.array([7,8,9])\n",
    "print(a)\n",
    "print(a.ndim)\n",
    "print(a.shape)"
   ]
  },
  {
   "cell_type": "code",
   "execution_count": 5,
   "id": "bf3d6b02",
   "metadata": {},
   "outputs": [
    {
     "name": "stdout",
     "output_type": "stream",
     "text": [
      "[[1 2 3]\n",
      " [4 5 6]]\n",
      "2\n",
      "(2, 3)\n"
     ]
    }
   ],
   "source": [
    "#2-DIMENSIONAL ARRAY:\n",
    "b = np.array([[1, 2, 3], [4, 5, 6]])\n",
    "print(b)\n",
    "print(b.ndim)          \n",
    "print(b.shape)         \n"
   ]
  },
  {
   "cell_type": "markdown",
   "id": "8d8dbdae",
   "metadata": {},
   "source": [
    "BASIC OPERATIONS :"
   ]
  },
  {
   "cell_type": "code",
   "execution_count": 6,
   "id": "5cdfb631",
   "metadata": {},
   "outputs": [
    {
     "name": "stdout",
     "output_type": "stream",
     "text": [
      "[3 5 7]\n",
      "[ 0  4 10]\n"
     ]
    }
   ],
   "source": [
    "import numpy as np\n",
    "arr1=np.array([0,1,2])\n",
    "arr2=np.array([3,4,5])\n",
    "print(arr1+arr2)\n",
    "print(arr1 * arr2 )\n"
   ]
  },
  {
   "cell_type": "markdown",
   "id": "7df997b1",
   "metadata": {},
   "source": [
    "NumPy arrays are preferred for numerical computations due to speed and convenience"
   ]
  },
  {
   "cell_type": "code",
   "execution_count": 7,
   "id": "9f5b8b47",
   "metadata": {},
   "outputs": [
    {
     "name": "stdout",
     "output_type": "stream",
     "text": [
      "[2, 4, 6]\n",
      "[2 4 6]\n"
     ]
    }
   ],
   "source": [
    "# Python list\n",
    "lst = [1, 2, 3]\n",
    "print([x * 2 for x in lst])  # [2, 4, 6]\n",
    "\n",
    "# NumPy array\n",
    "arr = np.array([1, 2, 3])\n",
    "print(arr * 2)               # [2 4 6]\n"
   ]
  },
  {
   "cell_type": "markdown",
   "id": "206b7b62",
   "metadata": {},
   "source": [
    "SPECIAL DATATYPE: \n",
    "DTYPE :OBJECT"
   ]
  },
  {
   "cell_type": "code",
   "execution_count": 8,
   "id": "736d814c",
   "metadata": {},
   "outputs": [
    {
     "name": "stdout",
     "output_type": "stream",
     "text": [
      "[1 'a' 3.5]\n",
      "object\n"
     ]
    }
   ],
   "source": [
    "arr = np.array([1, 'a', 3.5], dtype=object)\n",
    "print(arr)\n",
    "print(arr.dtype) \n"
   ]
  },
  {
   "cell_type": "code",
   "execution_count": null,
   "id": "c12f2309",
   "metadata": {},
   "outputs": [
    {
     "name": "stdout",
     "output_type": "stream",
     "text": [
      "[1. 2. 3.]\n"
     ]
    }
   ],
   "source": [
    "#dtype :TELLS US WHAT TYPE OF DATATYPE DO WE NEED IN ARRAY \n",
    "arr3 = np.array([1, 2, 3], dtype=float)\n",
    "print(arr3)"
   ]
  },
  {
   "cell_type": "markdown",
   "id": "fdb7ab61",
   "metadata": {},
   "source": [
    "np.arange():"
   ]
  },
  {
   "cell_type": "code",
   "execution_count": 10,
   "id": "e909d678",
   "metadata": {},
   "outputs": [
    {
     "name": "stdout",
     "output_type": "stream",
     "text": [
      "[0 2 4 6 8]\n",
      "[0.  0.2 0.4 0.6 0.8]\n"
     ]
    }
   ],
   "source": [
    "import numpy as np\n",
    "\n",
    "arr = np.arange(0, 10, 2)\n",
    "print(arr)\n",
    "# Output: [0 2 4 6 8]\n",
    "\n",
    "arr_float = np.arange(0, 1, 0.2)\n",
    "print(arr_float)\n",
    "# Output: [0.  0.2 0.4 0.6 0.8]\n"
   ]
  },
  {
   "cell_type": "markdown",
   "id": "aecaefe5",
   "metadata": {},
   "source": [
    "np.zeros():"
   ]
  },
  {
   "cell_type": "code",
   "execution_count": 11,
   "id": "6613696d",
   "metadata": {},
   "outputs": [
    {
     "name": "stdout",
     "output_type": "stream",
     "text": [
      "[0. 0. 0. 0. 0.]\n",
      "[[0 0 0 0]\n",
      " [0 0 0 0]\n",
      " [0 0 0 0]]\n"
     ]
    }
   ],
   "source": [
    "import numpy as np\n",
    "\n",
    "# 1D array of zeros with length 5\n",
    "zeros_1d = np.zeros(5)\n",
    "print(zeros_1d)\n",
    "# Output: [0. 0. 0. 0. 0.]\n",
    "\n",
    "# 2D array of zeros with shape 3x4\n",
    "zeros_2d = np.zeros((3, 4), dtype=int)\n",
    "print(zeros_2d)\n",
    "# Output:\n",
    "# [[0 0 0 0]\n",
    "#  [0 0 0 0]\n",
    "#  [0 0 0 0]]\n"
   ]
  },
  {
   "cell_type": "code",
   "execution_count": 12,
   "id": "5c974d41",
   "metadata": {},
   "outputs": [
    {
     "name": "stdout",
     "output_type": "stream",
     "text": [
      "[3.         3.16666667 3.33333333 3.5        3.66666667 3.83333333\n",
      " 4.        ]\n",
      "[3.         3.14285714 3.28571429 3.42857143 3.57142857 3.71428571\n",
      " 3.85714286]\n",
      "[ 0.   2.5  5.   7.5 10. ]\n",
      "Step size: 2.5\n"
     ]
    }
   ],
   "source": [
    "import numpy as np\n",
    "\n",
    "# Generate 7 evenly spaced numbers between 3.0 and 4.0 (inclusive)\n",
    "arr1 = np.linspace(3.0, 4.0, 7)\n",
    "print(arr1)\n",
    "# Output: [3.         3.16666667 3.33333333 3.5        3.66666667 3.83333333 4.        ]\n",
    "\n",
    "# Exclude the endpoint\n",
    "arr2 = np.linspace(3.0, 4.0, 7, endpoint=False)\n",
    "print(arr2)\n",
    "# Output: [3.         3.14285714 3.28571429 3.42857143 3.57142857 3.71428571 3.85714286]\n",
    "\n",
    "# Return the step size between samples\n",
    "arr3, step = np.linspace(0, 10, 5, retstep=True)\n",
    "print(arr3)\n",
    "print(\"Step size:\", step)\n",
    "# Output:\n",
    "# [ 0.   2.5  5.   7.5 10. ]\n",
    "# Step size: 2.5\n"
   ]
  },
  {
   "cell_type": "code",
   "execution_count": 13,
   "id": "59f7c4fa",
   "metadata": {},
   "outputs": [
    {
     "name": "stdout",
     "output_type": "stream",
     "text": [
      "[0.         0.11111111 0.22222222 0.33333333 0.44444444 0.55555556\n",
      " 0.66666667 0.77777778 0.88888889 1.        ]\n"
     ]
    }
   ],
   "source": [
    "# 10 points between 0 and 1 inclusive\n",
    "points = np.linspace(0, 1, 10)\n",
    "print(points)\n"
   ]
  },
  {
   "cell_type": "markdown",
   "id": "171e8493",
   "metadata": {},
   "source": [
    "numpy.eye():"
   ]
  },
  {
   "cell_type": "code",
   "execution_count": 14,
   "id": "8dad3554",
   "metadata": {},
   "outputs": [
    {
     "name": "stdout",
     "output_type": "stream",
     "text": [
      "[[1. 0. 0.]\n",
      " [0. 1. 0.]\n",
      " [0. 0. 1.]]\n",
      "[[1. 0. 0. 0.]\n",
      " [0. 1. 0. 0.]\n",
      " [0. 0. 1. 0.]]\n"
     ]
    }
   ],
   "source": [
    "import numpy as np\n",
    "\n",
    "# 3x3 identity matrix\n",
    "I = np.eye(3)\n",
    "print(I)\n",
    "# Output:\n",
    "# [[1. 0. 0.]\n",
    "#  [0. 1. 0.]\n",
    "#  [0. 0. 1.]]\n",
    "\n",
    "# 3x4 matrix with ones on main diagonal\n",
    "I2 = np.eye(3, 4)\n",
    "print(I2)\n",
    "# Output:\n",
    "# [[1. 0. 0. 0.]\n",
    "#  [0. 1. 0. 0.]\n",
    "#  [0. 0. 1. 0.]]\n"
   ]
  },
  {
   "cell_type": "markdown",
   "id": "c94aada6",
   "metadata": {},
   "source": []
  },
  {
   "cell_type": "code",
   "execution_count": 15,
   "id": "bb677ca9",
   "metadata": {},
   "outputs": [
    {
     "name": "stdout",
     "output_type": "stream",
     "text": [
      "[[0.0e+000 4.9e-324 9.9e-324]\n",
      " [1.5e-323 2.0e-323 2.5e-323]]\n"
     ]
    }
   ],
   "source": [
    "import numpy as np\n",
    "\n",
    "# Create an empty 2x3 array of floats (uninitialized values)\n",
    "empty_arr = np.empty((2, 3))\n",
    "print(empty_arr)\n"
   ]
  },
  {
   "cell_type": "code",
   "execution_count": 16,
   "id": "5380ba97",
   "metadata": {},
   "outputs": [
    {
     "name": "stdout",
     "output_type": "stream",
     "text": [
      "[1 2 3 4 5]\n",
      "Shape: (5,)\n",
      "Dimensions: 1\n"
     ]
    }
   ],
   "source": [
    "import numpy as np\n",
    "\n",
    "vector = np.array([1, 2, 3, 4, 5])\n",
    "print(vector)\n",
    "print(\"Shape:\", vector.shape)  # (5,)\n",
    "print(\"Dimensions:\", vector.ndim)  # 1\n"
   ]
  },
  {
   "cell_type": "code",
   "execution_count": 18,
   "id": "ff9af4ee",
   "metadata": {},
   "outputs": [
    {
     "name": "stdout",
     "output_type": "stream",
     "text": [
      "[(1, 'Alice', 25.5) (2, 'Bob', 30. ) (3, 'Charlie', 22. )]\n",
      "['Alice' 'Bob' 'Charlie']\n"
     ]
    }
   ],
   "source": [
    "import numpy as np\n",
    "\n",
    "# List of tuples (records)\n",
    "data = [\n",
    "    (1, 'Alice', 25.5),\n",
    "    (2, 'Bob', 30.0),\n",
    "    (3, 'Charlie', 22.0)\n",
    "]\n",
    "\n",
    "# Define structured dtype: id (int), name (string), score (float)\n",
    "dtype = [('id', 'i4'), ('name', 'U10'), ('score', 'f4')]\n",
    "\n",
    "arr = np.rec.fromrecords(data, dtype=dtype)\n",
    "print(arr)\n",
    "\n",
    "# Access a field\n",
    "print(arr['name'])\n"
   ]
  },
  {
   "cell_type": "markdown",
   "id": "1bcee276",
   "metadata": {},
   "source": [
    "VIEW WITH THE HELP OF SLICING :"
   ]
  },
  {
   "cell_type": "code",
   "execution_count": 19,
   "id": "ce234838",
   "metadata": {},
   "outputs": [
    {
     "name": "stdout",
     "output_type": "stream",
     "text": [
      "Original array: [1 2 3 4 5]\n",
      "Slice view: [2 3 4]\n",
      "After modifying view:\n",
      "Original array: [ 1 20  3  4  5]\n",
      "Slice view: [20  3  4]\n"
     ]
    }
   ],
   "source": [
    "import numpy as np\n",
    "\n",
    "arr = np.array([1, 2, 3, 4, 5])\n",
    "slice_view = arr[1:4]  # This is a view\n",
    "\n",
    "print(\"Original array:\", arr)\n",
    "print(\"Slice view:\", slice_view)\n",
    "\n",
    "# Modify view\n",
    "slice_view[0] = 20\n",
    "\n",
    "print(\"After modifying view:\")\n",
    "print(\"Original array:\", arr)      # arr[1] changes to 20\n",
    "print(\"Slice view:\", slice_view)\n"
   ]
  },
  {
   "cell_type": "markdown",
   "id": "607e9600",
   "metadata": {},
   "source": [
    "INDEXING IN NUMPY :"
   ]
  },
  {
   "cell_type": "code",
   "execution_count": 20,
   "id": "10cc270e",
   "metadata": {},
   "outputs": [
    {
     "name": "stdout",
     "output_type": "stream",
     "text": [
      "10\n",
      "50\n",
      "[20 30 40]\n"
     ]
    }
   ],
   "source": [
    "arr = np.array([10, 20, 30, 40, 50])\n",
    "\n",
    "print(arr[0])    # 10\n",
    "print(arr[-1])   # 50 (last element)\n",
    "print(arr[1:4])  # [20 30 40]\n"
   ]
  },
  {
   "cell_type": "code",
   "execution_count": 21,
   "id": "0a1c6649",
   "metadata": {},
   "outputs": [
    {
     "name": "stdout",
     "output_type": "stream",
     "text": [
      "2\n",
      "[4 5 6]\n"
     ]
    }
   ],
   "source": [
    "arr2d = np.array([[1, 2, 3],\n",
    "                  [4, 5, 6],\n",
    "                  [7, 8, 9]])\n",
    "\n",
    "print(arr2d[0, 1])  # 2 (row 0, column 1)\n",
    "print(arr2d[1])     # [4 5 6] (row 1)\n"
   ]
  },
  {
   "cell_type": "code",
   "execution_count": 22,
   "id": "1ddd5329",
   "metadata": {},
   "outputs": [
    {
     "name": "stdout",
     "output_type": "stream",
     "text": [
      "[False False  True  True  True]\n",
      "[30 40 50]\n",
      "[30 40 50]\n"
     ]
    }
   ],
   "source": [
    "arr = np.array([10, 20, 30, 40, 50])\n",
    "mask = arr > 25\n",
    "print(mask)          # [False False  True  True  True]\n",
    "print(arr[mask])     # [30 40 50]\n",
    "\n",
    "# Or directly:\n",
    "print(arr[arr > 25]) # [30 40 50]\n"
   ]
  },
  {
   "cell_type": "code",
   "execution_count": 26,
   "id": "f41e11bc",
   "metadata": {},
   "outputs": [
    {
     "name": "stdout",
     "output_type": "stream",
     "text": [
      "(array([0, 1, 1, 2, 2, 2]), array([0, 0, 1, 0, 1, 2]))\n"
     ]
    }
   ],
   "source": [
    "import numpy as np\n",
    "rows,cols=3,3\n",
    "indices=np.tril_indices(rows,k=0,m=cols)\n",
    "print(indices)\n"
   ]
  },
  {
   "cell_type": "markdown",
   "id": "62c498ca",
   "metadata": {},
   "source": [
    "ITERATION FOR 1D:"
   ]
  },
  {
   "cell_type": "code",
   "execution_count": 28,
   "id": "7e1095d1",
   "metadata": {},
   "outputs": [
    {
     "name": "stdout",
     "output_type": "stream",
     "text": [
      "0\n",
      "1\n",
      "2\n"
     ]
    }
   ],
   "source": [
    "import numpy as np\n",
    "arr=np.array([0,1,2])\n",
    "for x in arr :\n",
    "    print(x)\n"
   ]
  },
  {
   "cell_type": "markdown",
   "id": "0692e83d",
   "metadata": {},
   "source": [
    "ITERATION FOR 2D:"
   ]
  },
  {
   "cell_type": "code",
   "execution_count": 29,
   "id": "20d19602",
   "metadata": {},
   "outputs": [
    {
     "name": "stdout",
     "output_type": "stream",
     "text": [
      "[1 2 3]\n",
      "[4 5 6]\n"
     ]
    }
   ],
   "source": [
    "arr2d = np.array([[1, 2, 3], [4, 5, 6]])\n",
    "for row in arr2d:\n",
    "    print(row)\n",
    "# Output: [1 2 3]\n",
    "#         [4 5 6]\n"
   ]
  },
  {
   "cell_type": "code",
   "execution_count": 31,
   "id": "1a8a35ba",
   "metadata": {},
   "outputs": [
    {
     "name": "stdout",
     "output_type": "stream",
     "text": [
      "1\n",
      "2\n",
      "3\n",
      "4\n",
      "5\n",
      "6\n"
     ]
    }
   ],
   "source": [
    "arr2d = np.array([[1, 2, 3], [4, 5, 6]])\n",
    "for row in arr2d:\n",
    "    for x in row:\n",
    "        print(x)"
   ]
  },
  {
   "cell_type": "code",
   "execution_count": 32,
   "id": "a433acf8",
   "metadata": {},
   "outputs": [
    {
     "name": "stdout",
     "output_type": "stream",
     "text": [
      "1\n",
      "2\n",
      "3\n",
      "4\n",
      "5\n",
      "6\n"
     ]
    }
   ],
   "source": [
    "arr = np.array([[1, 2, 3], [4, 5, 6]])\n",
    "for x in np.nditer(arr):\n",
    "    print(x)\n",
    "# Output: 1 2 3 4 5 6\n"
   ]
  },
  {
   "cell_type": "code",
   "execution_count": 33,
   "id": "9d3af206",
   "metadata": {},
   "outputs": [
    {
     "name": "stdout",
     "output_type": "stream",
     "text": [
      "1\n",
      "2\n",
      "3\n",
      "4\n"
     ]
    }
   ],
   "source": [
    "arr = np.array([[1, 2], [3, 4]])\n",
    "for x in np.nditer(arr, order='C'):\n",
    "    print(x)\n",
    "# Output: 1 2 3 4\n",
    "\n"
   ]
  },
  {
   "cell_type": "code",
   "execution_count": 34,
   "id": "8e13cb89",
   "metadata": {},
   "outputs": [
    {
     "name": "stdout",
     "output_type": "stream",
     "text": [
      "1\n",
      "3\n",
      "2\n",
      "4\n"
     ]
    }
   ],
   "source": [
    "for x in np.nditer(arr,order='F'):\n",
    "    print(x)"
   ]
  },
  {
   "cell_type": "code",
   "execution_count": 37,
   "id": "a238997d",
   "metadata": {},
   "outputs": [
    {
     "name": "stdout",
     "output_type": "stream",
     "text": [
      "2\n",
      "4\n",
      "6\n",
      "8\n"
     ]
    }
   ],
   "source": [
    "for x in np.nditer(arr,op_flags=['readwrite']):\n",
    "    x[...]=x*2\n",
    "    print(x)"
   ]
  },
  {
   "cell_type": "markdown",
   "id": "bfa3599f",
   "metadata": {},
   "source": [
    "EXTERNAL LOOP:"
   ]
  },
  {
   "cell_type": "code",
   "execution_count": 38,
   "id": "b907ac4b",
   "metadata": {},
   "outputs": [
    {
     "name": "stdout",
     "output_type": "stream",
     "text": [
      "[1 2 3 4 5 6]\n"
     ]
    }
   ],
   "source": [
    "arr = np.array([[1, 2, 3], [4, 5, 6]])\n",
    "for row in np.nditer(arr, flags=['external_loop']):\n",
    "    print(row)\n",
    "# Output: [1 2 3]\n",
    "#         [4 5 6]\n"
   ]
  },
  {
   "cell_type": "markdown",
   "id": "5a288c5d",
   "metadata": {},
   "source": [
    "3D ARRAY WITH EXTERNAL LOOP :"
   ]
  },
  {
   "cell_type": "code",
   "execution_count": 43,
   "id": "2ff8c010",
   "metadata": {},
   "outputs": [
    {
     "name": "stdout",
     "output_type": "stream",
     "text": [
      "Original array shape: (2, 3, 4)\n",
      "[[[ 0  1  2  3]\n",
      "  [ 4  5  6  7]\n",
      "  [ 8  9 10 11]]\n",
      "\n",
      " [[12 13 14 15]\n",
      "  [16 17 18 19]\n",
      "  [20 21 22 23]]]\n",
      "[ 0  1  2  3  4  5  6  7  8  9 10 11 12 13 14 15 16 17 18 19 20 21 22 23]\n"
     ]
    }
   ],
   "source": [
    "arr3d = np.arange(24).reshape((2, 3, 4))\n",
    "print(\"Original array shape:\", arr3d.shape)\n",
    "print(arr3d)\n",
    "\n",
    "for block in np.nditer(arr3d, flags=['external_loop']):\n",
    "    print(block)\n"
   ]
  },
  {
   "cell_type": "markdown",
   "id": "6d68bec2",
   "metadata": {},
   "source": [
    "BROADCASTING ITERATION:"
   ]
  },
  {
   "cell_type": "code",
   "execution_count": 44,
   "id": "7184afc8",
   "metadata": {},
   "outputs": [
    {
     "name": "stdout",
     "output_type": "stream",
     "text": [
      "1 10\n",
      "2 10\n",
      "3 10\n",
      "1 20\n",
      "2 20\n",
      "3 20\n",
      "1 30\n",
      "2 30\n",
      "3 30\n"
     ]
    }
   ],
   "source": [
    "a = np.array([1, 2, 3])\n",
    "b = np.array([[10], [20], [30]])\n",
    "\n",
    "for x, y in np.nditer([a, b]):\n",
    "    print(x, y)\n",
    "# Output: (1,10) (2,10) (3,10) (1,20) (2,20) (3,20) (1,30) (2,30) (3,30)\n"
   ]
  },
  {
   "cell_type": "markdown",
   "id": "4655a99a",
   "metadata": {},
   "source": [
    "NDEMURATE : INDEX AND VALUE "
   ]
  },
  {
   "cell_type": "code",
   "execution_count": 45,
   "id": "aaba9c04",
   "metadata": {},
   "outputs": [
    {
     "name": "stdout",
     "output_type": "stream",
     "text": [
      "Index: (0, 0) Value: 1\n",
      "Index: (0, 1) Value: 2\n",
      "Index: (0, 2) Value: 3\n",
      "Index: (1, 0) Value: 4\n",
      "Index: (1, 1) Value: 5\n",
      "Index: (1, 2) Value: 6\n"
     ]
    }
   ],
   "source": [
    "arr = np.array([[1, 2, 3], [4, 5, 6]])\n",
    "for idx, val in np.ndenumerate(arr):\n",
    "    print(\"Index:\", idx, \"Value:\", val)\n",
    "# Output: Index: (0, 0) Value: 1, etc.\n"
   ]
  },
  {
   "cell_type": "markdown",
   "id": "7181ffdc",
   "metadata": {},
   "source": [
    "BASIC BROADCASTING:"
   ]
  },
  {
   "cell_type": "code",
   "execution_count": 46,
   "id": "e7eda02d",
   "metadata": {},
   "outputs": [
    {
     "name": "stdout",
     "output_type": "stream",
     "text": [
      "[6 7 8]\n"
     ]
    }
   ],
   "source": [
    "import numpy as np\n",
    "\n",
    "arr = np.array([1, 2, 3])\n",
    "result = arr + 5\n",
    "print(result)  # [6 7 8]\n"
   ]
  },
  {
   "cell_type": "markdown",
   "id": "9e6ba3ef",
   "metadata": {},
   "source": [
    "2D ARRAYS WITH DIFF SHAPE :"
   ]
  },
  {
   "cell_type": "code",
   "execution_count": 47,
   "id": "a5b90c89",
   "metadata": {},
   "outputs": [
    {
     "name": "stdout",
     "output_type": "stream",
     "text": [
      "[[11 12 13]\n",
      " [24 25 26]]\n"
     ]
    }
   ],
   "source": [
    "a = np.array([[1, 2, 3],\n",
    "              [4, 5, 6]])\n",
    "b = np.array([[10], [20]])\n",
    "result = a + b\n",
    "print(result)\n",
    "# [[11 12 13]\n",
    "#  [24 25 26]]\n"
   ]
  },
  {
   "cell_type": "markdown",
   "id": "b1003906",
   "metadata": {},
   "source": [
    "STATISTICAL OPERATIONS :"
   ]
  },
  {
   "cell_type": "code",
   "execution_count": 48,
   "id": "9b619907",
   "metadata": {},
   "outputs": [],
   "source": [
    "arr = np.array([1, 2, 3, 4, 5])\n",
    "mean_val = np.mean(arr)  # 3.0\n",
    "sum_val = np.sum(arr)    # 15\n",
    "max_val = np.max(arr)    # 5\n"
   ]
  },
  {
   "cell_type": "markdown",
   "id": "7dd46463",
   "metadata": {},
   "source": [
    "FOR 2D ARRAY : SPECIFY IF 0 FOR AXIS THEN COLOUMN SUM AND 1 FOR AXIS THEN ROW SUM:"
   ]
  },
  {
   "cell_type": "code",
   "execution_count": 49,
   "id": "7cff9950",
   "metadata": {},
   "outputs": [
    {
     "name": "stdout",
     "output_type": "stream",
     "text": [
      "[4 6]\n",
      "[3 7]\n"
     ]
    }
   ],
   "source": [
    "arr2d = np.array([[1, 2], [3, 4]])\n",
    "print(np.sum(arr2d, axis=0))  # [4 6] (column-wise sum)\n",
    "print(np.sum(arr2d, axis=1))  # [3 7] (row-wise sum)\n"
   ]
  },
  {
   "cell_type": "markdown",
   "id": "8821e691",
   "metadata": {},
   "source": [
    "1D ARRAY INNER PDT :"
   ]
  },
  {
   "cell_type": "code",
   "execution_count": 50,
   "id": "583f2556",
   "metadata": {},
   "outputs": [
    {
     "name": "stdout",
     "output_type": "stream",
     "text": [
      "800\n"
     ]
    }
   ],
   "source": [
    "import numpy as np\n",
    "\n",
    "a = np.array([5, 10, 15])\n",
    "b = np.array([20, 25, 30])\n",
    "\n",
    "result = np.inner(a, b)\n",
    "print(result)  # Output: 800\n"
   ]
  },
  {
   "cell_type": "markdown",
   "id": "3b893290",
   "metadata": {},
   "source": [
    "HIGHER DIMENSIONAL ARRAY : IT TAKE LAST DIMENSION OF 1ST ARRAY AND LAST DIMENSION OF THE 2ND ARRAY :"
   ]
  },
  {
   "cell_type": "code",
   "execution_count": null,
   "id": "071d9033",
   "metadata": {},
   "outputs": [
    {
     "name": "stdout",
     "output_type": "stream",
     "text": [
      "(2, 3)\n",
      "[[ 14  38  62]\n",
      " [ 86 110 134]]\n"
     ]
    }
   ],
   "source": [
    "x = np.arange(24).reshape((2, 3, 4))\n",
    "y = np.arange(4)\n",
    "\n",
    "result = np.inner(x, y)\n",
    "print(result.shape)  # (2, 3)\n",
    "print(result)\n",
    "#EXACTLY THIS IS HAPPENING HERE :\n",
    "# x[0,0,:] = [0, 1, 2, 3]\n",
    "# y = [0, 1, 2, 3]\n",
    "\n",
    "# inner = 0*0 + 1*1 + 2*2 + 3*3 = 0 + 1 + 4 + 9 = 14\n"
   ]
  },
  {
   "cell_type": "markdown",
   "id": "88f2f8df",
   "metadata": {},
   "source": [
    "MEAN,MEAN DEVIATION AND ABSOLUTE DEVIATION :"
   ]
  },
  {
   "cell_type": "code",
   "execution_count": 52,
   "id": "a7046d44",
   "metadata": {},
   "outputs": [
    {
     "name": "stdout",
     "output_type": "stream",
     "text": [
      "Mean: 3.0\n",
      "Absolute deviations: [2. 1. 0. 1. 2.]\n",
      "Mean deviation: 1.2\n"
     ]
    }
   ],
   "source": [
    "arr = np.array([1, 2, 3, 4, 5])\n",
    "\n",
    "mean = np.mean(arr)\n",
    "abs_deviation = np.abs(arr - mean)\n",
    "mean_deviation = np.mean(abs_deviation)\n",
    "\n",
    "print(\"Mean:\", mean)                   # 3.0\n",
    "print(\"Absolute deviations:\", abs_deviation)  # [2. 1. 0. 1. 2.]\n",
    "print(\"Mean deviation:\", mean_deviation)      # 1.2\n"
   ]
  },
  {
   "cell_type": "markdown",
   "id": "75bc2ae3",
   "metadata": {},
   "source": [
    "appending values :"
   ]
  },
  {
   "cell_type": "code",
   "execution_count": 53,
   "id": "f9a93244",
   "metadata": {},
   "outputs": [
    {
     "name": "stdout",
     "output_type": "stream",
     "text": [
      "[1 2 3 4 5]\n"
     ]
    }
   ],
   "source": [
    "a = np.array([1, 2, 3])\n",
    "b = np.append(a, [4, 5])\n",
    "print(b)  # [1 2 3 4 5]\n"
   ]
  },
  {
   "cell_type": "markdown",
   "id": "ea901f95",
   "metadata": {},
   "source": [
    "swapping coloumns in a 2d array :"
   ]
  },
  {
   "cell_type": "code",
   "execution_count": 54,
   "id": "9e25bd3b",
   "metadata": {},
   "outputs": [
    {
     "name": "stdout",
     "output_type": "stream",
     "text": [
      "[[3 2 1]\n",
      " [6 5 4]]\n"
     ]
    }
   ],
   "source": [
    "a = np.array([[1, 2, 3],\n",
    "              [4, 5, 6]])\n",
    "# Swap columns 0 and 2\n",
    "a[:, [0, 2]] = a[:, [2, 0]]\n",
    "print(a)\n",
    "# [[3 2 1]\n",
    "#  [6 5 4]]\n"
   ]
  },
  {
   "cell_type": "markdown",
   "id": "8cfa9f7a",
   "metadata": {},
   "source": [
    "INSERTING NEW ARRAY IN AXIS :"
   ]
  },
  {
   "cell_type": "code",
   "execution_count": 55,
   "id": "fa353d70",
   "metadata": {},
   "outputs": [
    {
     "name": "stdout",
     "output_type": "stream",
     "text": [
      "(3,)\n",
      "[[1]\n",
      " [2]\n",
      " [3]]\n",
      "(3, 1)\n",
      "[[1 2 3]]\n",
      "(1, 3)\n"
     ]
    }
   ],
   "source": [
    "a = np.array([1, 2, 3])\n",
    "print(a.shape)         # (3,)\n",
    "\n",
    "# Make it a column vector\n",
    "b = a[:, np.newaxis]\n",
    "print(b)\n",
    "# [[1]\n",
    "#  [2]\n",
    "#  [3]]\n",
    "print(b.shape)         # (3, 1)\n",
    "\n",
    "# Make it a row vector\n",
    "c = a[np.newaxis, :]\n",
    "print(c)\n",
    "# [[1 2 3]]\n",
    "print(c.shape)         # (1, 3)\n"
   ]
  },
  {
   "cell_type": "markdown",
   "id": "14eb681d",
   "metadata": {},
   "source": [
    "STACKING ARRAY :"
   ]
  },
  {
   "cell_type": "code",
   "execution_count": 56,
   "id": "3a7749cc",
   "metadata": {},
   "outputs": [
    {
     "name": "stdout",
     "output_type": "stream",
     "text": [
      "[[1 2 3]\n",
      " [4 5 6]]\n",
      "[1 2 3 4 5 6]\n"
     ]
    }
   ],
   "source": [
    "a = np.array([1, 2, 3])\n",
    "b = np.array([4, 5, 6])\n",
    "\n",
    "# Vertical stack (as rows)\n",
    "v = np.vstack((a, b))\n",
    "print(v)\n",
    "# [[1 2 3]\n",
    "#  [4 5 6]]\n",
    "\n",
    "# Horizontal stack (as one row)\n",
    "h = np.hstack((a, b))\n",
    "print(h)\n",
    "# [1 2 3 4 5 6]\n"
   ]
  },
  {
   "cell_type": "markdown",
   "id": "0bca644d",
   "metadata": {},
   "source": [
    "CONCATENATIG ARRAY:"
   ]
  },
  {
   "cell_type": "code",
   "execution_count": 57,
   "id": "f6808234",
   "metadata": {},
   "outputs": [
    {
     "name": "stdout",
     "output_type": "stream",
     "text": [
      "[1 2 3 4 5 6]\n"
     ]
    }
   ],
   "source": [
    "import numpy as np\n",
    "\n",
    "a = np.ma.array([1, 2, 3])\n",
    "b = np.ma.array([4, 5, 6])\n",
    "c = np.ma.concatenate([a, b])\n",
    "print(c)  # [1 2 3 4 5 6]\n"
   ]
  },
  {
   "cell_type": "markdown",
   "id": "b25b863d",
   "metadata": {},
   "source": [
    "COMBINED ARRAY INDEX BY INDEX"
   ]
  },
  {
   "cell_type": "code",
   "execution_count": 58,
   "id": "83bb6d42",
   "metadata": {},
   "outputs": [
    {
     "name": "stdout",
     "output_type": "stream",
     "text": [
      "6\n"
     ]
    }
   ],
   "source": [
    "arr = np.array([[1, 2, 3], [4, 5, 6]])\n",
    "print(arr[1, 2])  # 6 (row 1, column 2)\n"
   ]
  },
  {
   "cell_type": "markdown",
   "id": "7c138f49",
   "metadata": {},
   "source": [
    "SPLITTING ARRAY :"
   ]
  },
  {
   "cell_type": "code",
   "execution_count": 59,
   "id": "a788629a",
   "metadata": {},
   "outputs": [
    {
     "name": "stdout",
     "output_type": "stream",
     "text": [
      "[array([1, 2]), array([3, 4]), array([5, 6])]\n",
      "[array([1, 2]), array([3, 4]), array([5]), array([6])]\n"
     ]
    }
   ],
   "source": [
    "arr = np.array([1, 2, 3, 4, 5, 6])\n",
    "# Equal splits\n",
    "print(np.split(arr, 3))  # [array([1,2]), array([3,4]), array([5,6])]\n",
    "\n",
    "# Unequal splits\n",
    "print(np.array_split(arr, 4))  # [array([1,2]), array([3,4]), array([5]), array([6])]\n"
   ]
  },
  {
   "cell_type": "markdown",
   "id": "8997a13b",
   "metadata": {},
   "source": [
    "COMPARING 2 NUMPY ARRAYS :"
   ]
  },
  {
   "cell_type": "code",
   "execution_count": 60,
   "id": "08c346a4",
   "metadata": {},
   "outputs": [
    {
     "name": "stdout",
     "output_type": "stream",
     "text": [
      "[ True False  True]\n",
      "False\n"
     ]
    }
   ],
   "source": [
    "a = np.array([1, 2, 3])\n",
    "b = np.array([1, 4, 3])\n",
    "print(a == b)  # [True False True]\n",
    "print(np.array_equal(a, b))  # False (checks if arrays are exactly the same)\n"
   ]
  }
 ],
 "metadata": {
  "kernelspec": {
   "display_name": "Python 3",
   "language": "python",
   "name": "python3"
  },
  "language_info": {
   "codemirror_mode": {
    "name": "ipython",
    "version": 3
   },
   "file_extension": ".py",
   "mimetype": "text/x-python",
   "name": "python",
   "nbconvert_exporter": "python",
   "pygments_lexer": "ipython3",
   "version": "3.12.1"
  }
 },
 "nbformat": 4,
 "nbformat_minor": 5
}
